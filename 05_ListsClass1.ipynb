{
  "cells": [
    {
      "cell_type": "markdown",
      "metadata": {
        "id": "view-in-github",
        "colab_type": "text"
      },
      "source": [
        "<a href=\"https://colab.research.google.com/github/brittn27/introtoGIT/blob/main/05_ListsClass1.ipynb\" target=\"_parent\"><img src=\"https://colab.research.google.com/assets/colab-badge.svg\" alt=\"Open In Colab\"/></a>"
      ]
    },
    {
      "cell_type": "markdown",
      "metadata": {
        "id": "mNyrlkBq-scb"
      },
      "source": [
        "# Lists "
      ]
    },
    {
      "cell_type": "markdown",
      "metadata": {
        "id": "HFMNnY1i-scd"
      },
      "source": [
        "A list is a mutable collection of ordered items that can be of mixed type. \n",
        "\n",
        "Lists are created using square brackets.\n",
        "\n",
        "Mutable means that you can change things around after you make it. Think of the word 'mutate'.\n",
        "\n",
        "Immutable means that you cannot change things after you make them."
      ]
    },
    {
      "cell_type": "markdown",
      "metadata": {
        "id": "CCBQzARSactN"
      },
      "source": [
        "Lists can be all of the same type of object, like digits of a phone number..."
      ]
    },
    {
      "cell_type": "code",
      "execution_count": null,
      "metadata": {
        "id": "zvryPgZ8alwd"
      },
      "outputs": [],
      "source": [
        "phone_number = [8, 6, 7, 5, 3, 0, 9]\n",
        "phone_number"
      ]
    },
    {
      "cell_type": "markdown",
      "metadata": {
        "id": "eLtQBdcKay-V"
      },
      "source": [
        "Lists can also be a mix of different objects, for example, you could number each verse in a song:\n"
      ]
    },
    {
      "cell_type": "code",
      "execution_count": null,
      "metadata": {
        "id": "jljVwov8-sct"
      },
      "outputs": [],
      "source": [
        "words = \"Where the north wind meets the sea\"\n",
        "verse_1 = [1,\n",
        "           words,\n",
        "          \"There's a river full of memory\",\n",
        "          \"Sleep, my darling, safe and sound\",\n",
        "          \"For in this river all is found\",\n",
        "          ]"
      ]
    },
    {
      "cell_type": "markdown",
      "metadata": {
        "id": "4EFIeveAa7fC"
      },
      "source": [
        "Use the `print()` function to print out the contents of a list."
      ]
    },
    {
      "cell_type": "code",
      "execution_count": null,
      "metadata": {
        "id": "aKNhzE4_-sc0"
      },
      "outputs": [],
      "source": [
        "print(verse_1)"
      ]
    },
    {
      "cell_type": "markdown",
      "metadata": {
        "id": "BFg4XaSfbSXP"
      },
      "source": [
        "In Google Colab and Jupyter Notebooks, you can just type the object name as the final line of a cell also"
      ]
    },
    {
      "cell_type": "code",
      "execution_count": null,
      "metadata": {
        "id": "KYGKGDM_bTi1"
      },
      "outputs": [],
      "source": [
        "verse_1"
      ]
    },
    {
      "cell_type": "markdown",
      "metadata": {
        "id": "sWECbimkFv6I"
      },
      "source": [
        "You can put any object in a list. It can be a string, a number, a function, a class, a dictionary, even another list (or any collection type for that matter).... whatever you want to put in a list can go in a list as long as it's an object, and in Python 3.x, everything is an object."
      ]
    },
    {
      "cell_type": "markdown",
      "metadata": {
        "id": "Ngj5l68bbDNn"
      },
      "source": [
        "You can use the `type()` function to determine what type of oject something is."
      ]
    },
    {
      "cell_type": "code",
      "execution_count": null,
      "metadata": {
        "id": "2RO2BUQd-sc4"
      },
      "outputs": [],
      "source": [
        "type(verse_1)"
      ]
    },
    {
      "cell_type": "markdown",
      "metadata": {
        "id": "ftGtjC_D-sc-"
      },
      "source": [
        "Lists can be concatenated. This adds one list to the end of another list"
      ]
    },
    {
      "cell_type": "code",
      "execution_count": null,
      "metadata": {
        "id": "-er4sT6v-sc_"
      },
      "outputs": [],
      "source": [
        "verse_2 = [2,\n",
        "           \"In her waters, deep and true\", \n",
        "           \"Lay the answers and a path for you\",\n",
        "           \"Dive down deep into her sound\",\n",
        "           \"But not too far or you'll be drowned\",\n",
        "           ]\n",
        "\n",
        "verse_3 = [3,\n",
        "           \"Yes, she will sing to those who'll hear\",\n",
        "           \"And in her song, all magic flows\",\n",
        "           \"But can you brave what you most fear?\",\n",
        "           \"Can you face what the river knows?\",\n",
        "           ]\n",
        "\n",
        "verse_4 = [4,\n",
        "           verse_1[1],\n",
        "           \"There's a mother full of memory\",\n",
        "           \"Come my darling, homeward bound\",\n",
        "           \"When all is lost, then all is found\"\n",
        "           ]\n",
        "\n",
        "song = verse_1 + verse_2 + verse_3 + verse_4\n"
      ]
    },
    {
      "cell_type": "markdown",
      "metadata": {
        "id": "rWQY8EbT-sdF"
      },
      "source": [
        "You can also make an empty list and append it later on.  This is handy when using a loop, which we will learn about later."
      ]
    },
    {
      "cell_type": "code",
      "execution_count": null,
      "metadata": {
        "id": "FFdtdXBh-sdG"
      },
      "outputs": [],
      "source": [
        "# Define an empty list\n",
        "smells_like_teen_spirit = []\n",
        "\n",
        "# Add stuff to that list\n",
        "smells_like_teen_spirit.append(\"With the lights out\")  \n",
        "smells_like_teen_spirit.append(\"It's less dangerous\")\n",
        "smells_like_teen_spirit.append(\"Here we are now\")\n",
        "smells_like_teen_spirit.append(\"Entertain us\")\n",
        "\n",
        "smells_like_teen_spirit"
      ]
    },
    {
      "cell_type": "markdown",
      "metadata": {
        "id": "s2u9EcSNlISW"
      },
      "source": [
        "You can also append a list to another list by `extend`ing the list"
      ]
    },
    {
      "cell_type": "code",
      "execution_count": null,
      "metadata": {
        "id": "eNVOx-OmlO7s"
      },
      "outputs": [],
      "source": [
        "song.extend(smells_like_teen_spirit)\n",
        "song"
      ]
    },
    {
      "cell_type": "markdown",
      "metadata": {
        "id": "ucFXdPno-sdK"
      },
      "source": [
        "## Indexing"
      ]
    },
    {
      "cell_type": "markdown",
      "metadata": {
        "id": "5r42HWVj-sdL"
      },
      "source": [
        "Indexing refers to selecting an item from within a collection. Indexing is done with square brackets.\n",
        "\n",
        "Forward indexing starts at zero and can be thought of as offset from start.\n",
        "\n",
        "Reverse indexing can be thought of as position from the end.\n"
      ]
    },
    {
      "cell_type": "code",
      "execution_count": null,
      "metadata": {
        "id": "VCx1gQXvLK3o"
      },
      "outputs": [],
      "source": [
        "science = [\"S\", \"C\", \"I\", \"E\", \"N\", \"C\", \"E\"]\n",
        "science"
      ]
    },
    {
      "cell_type": "markdown",
      "metadata": {
        "id": "SKVzbYr7Ctiy"
      },
      "source": [
        "<img src=\"https://drive.google.com/uc?export=view&id=1EIdgxdeBU00hoHAmaE683dLSQaqeMHem\">"
      ]
    },
    {
      "cell_type": "markdown",
      "metadata": {
        "id": "Y-IPUlCjhSIv"
      },
      "source": [
        "### Indices start at 0"
      ]
    },
    {
      "cell_type": "markdown",
      "metadata": {
        "id": "0ojhxZLMhZO9"
      },
      "source": [
        "Remember that Python starts indices with 0, not 1.\n",
        "\n",
        "\n",
        "**Deep Dive**\n",
        "\n",
        "List indices start at 0 in Python.  You can think of lists locations as  pointing to memory locations, so these numbers are offsets from memory location start points. For example, the first item in the list has a 0 offset from the starting point.  The second item has 1 offset from the starting point, etc.\n",
        "\n",
        "When we reverse index, we start at -1 because 0 is already taken by forward indexing.\n"
      ]
    },
    {
      "cell_type": "code",
      "execution_count": null,
      "metadata": {
        "id": "TxALhgn8gkrA"
      },
      "outputs": [],
      "source": [
        "mylist = [1, 2, 3, 4, 5, 6, 7]\n",
        "print(mylist)\n",
        "len(mylist)\n"
      ]
    },
    {
      "cell_type": "markdown",
      "metadata": {
        "id": "axlVNf2zgq9C"
      },
      "source": [
        "The above list has 7 items.  The list begins number 1 at the 0th index (offset 0 from the start).  The list ends with the number 7 at the 6th position (offset 6  from the start)."
      ]
    },
    {
      "cell_type": "code",
      "execution_count": null,
      "metadata": {
        "id": "kjM7kjZeg5qA"
      },
      "outputs": [],
      "source": [
        "print(mylist[0])\n",
        "print(mylist[6])\n",
        "print(mylist[-1])"
      ]
    },
    {
      "cell_type": "markdown",
      "metadata": {
        "id": "4kwgesBLZ7J8"
      },
      "source": [
        "Define a list"
      ]
    },
    {
      "cell_type": "code",
      "execution_count": null,
      "metadata": {
        "id": "WQ4sSSxJ-sdL"
      },
      "outputs": [],
      "source": [
        "my_grocery_list = ['Bananas', 'Berries', 'Waffles', 'Yogurt', 'Low Fat Shredded Cheese']"
      ]
    },
    {
      "cell_type": "markdown",
      "metadata": {
        "id": "2PIVL5YRZ_Xa"
      },
      "source": [
        "Indexing: Count forward, starting at 0, with positive numbers"
      ]
    },
    {
      "cell_type": "code",
      "execution_count": null,
      "metadata": {
        "colab": {
          "base_uri": "https://localhost:8080/",
          "height": 35
        },
        "id": "5eaaTVTb-sdP",
        "outputId": "9b411eae-b5be-4c32-c8d7-e841238ec346"
      },
      "outputs": [
        {
          "name": "stdout",
          "output_type": "stream",
          "text": [
            "Waffles\n"
          ]
        }
      ],
      "source": [
        "print(my_grocery_list[2])"
      ]
    },
    {
      "cell_type": "markdown",
      "metadata": {
        "id": "6RVeAdbwaCW5"
      },
      "source": [
        "Indexing: Count backward, starting at -1, with negative numbers\n"
      ]
    },
    {
      "cell_type": "code",
      "execution_count": null,
      "metadata": {
        "colab": {
          "base_uri": "https://localhost:8080/",
          "height": 35
        },
        "id": "5CGiTg0c-sdU",
        "outputId": "7a5bf511-e6f3-4656-e861-ac531ea6cac7"
      },
      "outputs": [
        {
          "name": "stdout",
          "output_type": "stream",
          "text": [
            "Low Fat Shredded Cheese\n"
          ]
        }
      ],
      "source": [
        "print(my_grocery_list[-1])"
      ]
    },
    {
      "cell_type": "markdown",
      "metadata": {
        "id": "6Uy4A3e4aI3R"
      },
      "source": [
        "## Indexing\n",
        "\n",
        "Indexing: Get a slice of items from a list using `start:stop`\n",
        "\n",
        "The code `[2:4]` returns the the 3rd and 4th element on the list.\n",
        "\n",
        "Python indexing includes the lower bound and excludes the upper bound.\n",
        "\n",
        "\n",
        "**Deep dive**\n",
        "The index boundaries in Python are represented by:\n",
        "`start ≤ i < stop`  This ensures that the length of the slice is equal to `stop - start`.  \n",
        "\n",
        "The full explanation is here:\n",
        "http://www.cs.utexas.edu/users/EWD/transcriptions/EWD08xx/EWD831.html"
      ]
    },
    {
      "cell_type": "code",
      "execution_count": null,
      "metadata": {
        "colab": {
          "base_uri": "https://localhost:8080/",
          "height": 35
        },
        "id": "uQwxfL-_-sdZ",
        "outputId": "44afe946-0bef-414d-9849-6e6632bd4e46"
      },
      "outputs": [
        {
          "name": "stdout",
          "output_type": "stream",
          "text": [
            "['Waffles', 'Yogurt']\n"
          ]
        }
      ],
      "source": [
        "print(my_grocery_list[2:4])"
      ]
    },
    {
      "cell_type": "code",
      "execution_count": null,
      "metadata": {
        "colab": {
          "base_uri": "https://localhost:8080/",
          "height": 35
        },
        "id": "AUnvqIaGM5J6",
        "outputId": "3228cb25-b672-461c-9e84-7ce17bab363a"
      },
      "outputs": [
        {
          "data": {
            "text/plain": [
              "['Waffles', 'Yogurt', 'Low Fat Shredded Cheese']"
            ]
          },
          "execution_count": 20,
          "metadata": {
            "tags": []
          },
          "output_type": "execute_result"
        }
      ],
      "source": [
        "my_grocery_list[2:5]"
      ]
    },
    {
      "cell_type": "markdown",
      "metadata": {
        "id": "TQoR89IW-sdd"
      },
      "source": [
        "### Indexing examples"
      ]
    },
    {
      "cell_type": "markdown",
      "metadata": {
        "id": "xMh2ehB5G6wq"
      },
      "source": [
        "Here are some lists"
      ]
    },
    {
      "cell_type": "code",
      "execution_count": null,
      "metadata": {
        "id": "_o39w9TW-sde"
      },
      "outputs": [],
      "source": [
        "years = [2010, 2011, 2012, 2013, 2014, 2015, 2016, 2017, 2018, 2019]\n",
        "class_average = [0.79, 0.81, 0.81, 0.80, 0.79, 0.81, 0.85, 0.86, 0.99, 0.95]"
      ]
    },
    {
      "cell_type": "markdown",
      "metadata": {
        "id": "BmgncarMG9Xk"
      },
      "source": [
        "Index individual items from those lists. \n",
        "\n",
        "Remember that we start at 0, so index 2 gets the 3rd item in the list."
      ]
    },
    {
      "cell_type": "markdown",
      "metadata": {
        "id": "8S0IsnlRH4qX"
      },
      "source": [
        "Think about it this way.  When you are born, you are 0 years old.  When a list is created, it starts at position 0 also. In both cases, 0 refers to the beginning."
      ]
    },
    {
      "cell_type": "code",
      "execution_count": null,
      "metadata": {
        "colab": {
          "base_uri": "https://localhost:8080/",
          "height": 35
        },
        "id": "xNilghUL-sdi",
        "outputId": "52218ae6-dc3b-4b2f-f96c-51ab028047a3"
      },
      "outputs": [
        {
          "name": "stdout",
          "output_type": "stream",
          "text": [
            "In 2012 the class average was: 0.81\n"
          ]
        }
      ],
      "source": [
        "print(\"In\",years[2], \"the class average was:\", class_average[2])"
      ]
    },
    {
      "cell_type": "markdown",
      "metadata": {
        "id": "EwBUQVMiKHe6"
      },
      "source": [
        "Reverse indexing starts with `-1`, not `0` because `0` was already taken.."
      ]
    },
    {
      "cell_type": "code",
      "execution_count": null,
      "metadata": {
        "colab": {
          "base_uri": "https://localhost:8080/",
          "height": 35
        },
        "id": "jJxc0iU8-sdn",
        "outputId": "c3e4c972-ddbb-4dde-e4e1-ccb1902d7775"
      },
      "outputs": [
        {
          "name": "stdout",
          "output_type": "stream",
          "text": [
            "In 2019 the class average was: 0.95\n"
          ]
        }
      ],
      "source": [
        "print(\"In\",years[-1], \"the class average was:\", class_average[-1])"
      ]
    },
    {
      "cell_type": "markdown",
      "metadata": {
        "id": "iZ4lgQslKd-G"
      },
      "source": [
        "Take a slice of the data that has the first two years"
      ]
    },
    {
      "cell_type": "code",
      "execution_count": null,
      "metadata": {
        "colab": {
          "base_uri": "https://localhost:8080/",
          "height": 35
        },
        "id": "Sfub_GFDGQCQ",
        "outputId": "be106eb7-9e89-408d-db25-10f624e2d163"
      },
      "outputs": [
        {
          "data": {
            "text/plain": [
              "[2010, 2011]"
            ]
          },
          "execution_count": 31,
          "metadata": {
            "tags": []
          },
          "output_type": "execute_result"
        }
      ],
      "source": [
        "years[0:2]"
      ]
    },
    {
      "cell_type": "markdown",
      "metadata": {
        "id": "LyFhgNErKiIH"
      },
      "source": [
        "This code will give years 2 and 3"
      ]
    },
    {
      "cell_type": "code",
      "execution_count": null,
      "metadata": {
        "colab": {
          "base_uri": "https://localhost:8080/",
          "height": 35
        },
        "id": "v4mwvXrs-sdr",
        "outputId": "6e7c1625-c4c8-41ba-d2eb-db8f8dcf85c3"
      },
      "outputs": [
        {
          "data": {
            "text/plain": [
              "[2011, 2012]"
            ]
          },
          "execution_count": 32,
          "metadata": {
            "tags": []
          },
          "output_type": "execute_result"
        }
      ],
      "source": [
        "years[1:3]"
      ]
    },
    {
      "cell_type": "markdown",
      "metadata": {
        "id": "CTT9DkRNKmSV"
      },
      "source": [
        "This code gives years 4 to the end.\n",
        "\n",
        "Remember we start counting at 0.  2014 is the 5th item on the list, or has an offset of 4 places from the beginning of the list"
      ]
    },
    {
      "cell_type": "code",
      "execution_count": null,
      "metadata": {
        "colab": {
          "base_uri": "https://localhost:8080/",
          "height": 35
        },
        "id": "eyv7QNYVGYgG",
        "outputId": "1e72881a-bdea-4cd6-9fa5-71e6774d26fc"
      },
      "outputs": [
        {
          "data": {
            "text/plain": [
              "[2014, 2015, 2016, 2017, 2018, 2019]"
            ]
          },
          "execution_count": 33,
          "metadata": {
            "tags": []
          },
          "output_type": "execute_result"
        }
      ],
      "source": [
        "years[4:]"
      ]
    },
    {
      "cell_type": "markdown",
      "metadata": {
        "id": "rIe3i_hkKv-8"
      },
      "source": [
        "This give all of the years up until, but not including the 4th year"
      ]
    },
    {
      "cell_type": "code",
      "execution_count": null,
      "metadata": {
        "colab": {
          "base_uri": "https://localhost:8080/",
          "height": 35
        },
        "id": "Zjx2sKoDGgbE",
        "outputId": "dca8ecfd-e8ff-41fb-b715-5202cb8f043d"
      },
      "outputs": [
        {
          "data": {
            "text/plain": [
              "[2010, 2011, 2012, 2013]"
            ]
          },
          "execution_count": 34,
          "metadata": {
            "tags": []
          },
          "output_type": "execute_result"
        }
      ],
      "source": [
        "years[:4]"
      ]
    },
    {
      "cell_type": "markdown",
      "metadata": {
        "id": "NO1HVqFdKz8f"
      },
      "source": [
        "This gives the last year"
      ]
    },
    {
      "cell_type": "code",
      "execution_count": null,
      "metadata": {
        "colab": {
          "base_uri": "https://localhost:8080/",
          "height": 35
        },
        "id": "2j591sulGq-1",
        "outputId": "f5689fc2-59ae-460d-a8e2-c9f2ff48d64e"
      },
      "outputs": [
        {
          "data": {
            "text/plain": [
              "2019"
            ]
          },
          "execution_count": 35,
          "metadata": {
            "tags": []
          },
          "output_type": "execute_result"
        }
      ],
      "source": [
        "years[-1]"
      ]
    },
    {
      "cell_type": "markdown",
      "metadata": {
        "id": "vweGtdLkK15C"
      },
      "source": [
        "This gives the last 2 years before the end of the list"
      ]
    },
    {
      "cell_type": "code",
      "execution_count": null,
      "metadata": {
        "colab": {
          "base_uri": "https://localhost:8080/",
          "height": 35
        },
        "id": "iruyNSgRGs-r",
        "outputId": "1a834471-0a36-4d3f-ea16-0d790260be2b"
      },
      "outputs": [
        {
          "data": {
            "text/plain": [
              "[2017, 2018]"
            ]
          },
          "execution_count": 36,
          "metadata": {
            "tags": []
          },
          "output_type": "execute_result"
        }
      ],
      "source": [
        "years[-3:-1]"
      ]
    },
    {
      "cell_type": "markdown",
      "metadata": {
        "id": "xDDGObbwK3os"
      },
      "source": [
        "This gives the third from last year until the end of the list"
      ]
    },
    {
      "cell_type": "code",
      "execution_count": null,
      "metadata": {
        "colab": {
          "base_uri": "https://localhost:8080/",
          "height": 35
        },
        "id": "CXqS4bv3Gk3R",
        "outputId": "786de9bb-fdf0-4a02-f8df-90271432e187"
      },
      "outputs": [
        {
          "data": {
            "text/plain": [
              "[2017, 2018, 2019]"
            ]
          },
          "execution_count": 37,
          "metadata": {
            "tags": []
          },
          "output_type": "execute_result"
        }
      ],
      "source": [
        "years[-3:]"
      ]
    },
    {
      "cell_type": "markdown",
      "metadata": {
        "id": "o7lYt3hhK8ci"
      },
      "source": [
        "This gives the beginning of the list until the third from last year"
      ]
    },
    {
      "cell_type": "code",
      "execution_count": null,
      "metadata": {
        "colab": {
          "base_uri": "https://localhost:8080/",
          "height": 35
        },
        "id": "2dny3uNBK_T1",
        "outputId": "a9f3f9bc-0752-47ea-eba7-97580fa8d301"
      },
      "outputs": [
        {
          "data": {
            "text/plain": [
              "[2010, 2011, 2012, 2013, 2014, 2015, 2016]"
            ]
          },
          "execution_count": 38,
          "metadata": {
            "tags": []
          },
          "output_type": "execute_result"
        }
      ],
      "source": [
        "years[:-3]"
      ]
    },
    {
      "cell_type": "markdown",
      "metadata": {
        "id": "s3VDQYwX-sdv"
      },
      "source": [
        "### Question #1\n",
        "\n",
        "What will be the output of the following piece of code:"
      ]
    },
    {
      "cell_type": "code",
      "execution_count": null,
      "metadata": {
        "colab": {
          "base_uri": "https://localhost:8080/",
          "height": 35
        },
        "id": "z7BM7ynT-sdw",
        "outputId": "49b7b6c2-4b83-41a9-bbef-1d34a5e98bee"
      },
      "outputs": [
        {
          "data": {
            "text/plain": [
              "['b', 'c']"
            ]
          },
          "execution_count": 39,
          "metadata": {
            "tags": []
          },
          "output_type": "execute_result"
        }
      ],
      "source": [
        "q1_lst = ['a', 'b', 'c','d']\n",
        "q1_lst[-3:-1]"
      ]
    },
    {
      "cell_type": "markdown",
      "metadata": {
        "id": "IPStOa1i-sdz"
      },
      "source": [
        "- a) 'a', 'b', 'c'\n",
        "- b) 'c', 'b', 'a'\n",
        "- c) 'c', 'b'\n",
        "- d) 'b', 'c', 'd'\n",
        "- e) 'b', 'c'"
      ]
    },
    {
      "cell_type": "markdown",
      "metadata": {
        "id": "oH6qcq9T-sd0"
      },
      "source": [
        "## Reminders"
      ]
    },
    {
      "cell_type": "markdown",
      "metadata": {
        "id": "-sMoBwSU-sd0"
      },
      "source": [
        "- Negative indices index backwards through a collection\n",
        "- A sequence of indices (called a slice) can be accessed using start:stop\n",
        "    - In this contstruction, `start` is included then every element until `stop`, not including `stop` itself"
      ]
    },
    {
      "cell_type": "markdown",
      "metadata": {
        "id": "nZZ8ta8w-sd2"
      },
      "source": [
        "## Length of a collection\n",
        "\n",
        "This works for lists and all of the other collections we are yet to learn\n"
      ]
    },
    {
      "cell_type": "code",
      "execution_count": null,
      "metadata": {
        "colab": {
          "base_uri": "https://localhost:8080/",
          "height": 53
        },
        "id": "pmUDUrVG-sd4",
        "outputId": "cbd083bd-17d4-4f81-ebad-20b8964b6de4"
      },
      "outputs": [
        {
          "name": "stdout",
          "output_type": "stream",
          "text": [
            "There were 10 years recorded.\n",
            "There were 10 class averages recorded.\n"
          ]
        }
      ],
      "source": [
        "number_of_class_averages = len(class_average)\n",
        "\n",
        "print(f'There were {len(years)} years recorded.')\n",
        "print(f'There were {number_of_class_averages} class averages recorded.')"
      ]
    },
    {
      "cell_type": "markdown",
      "metadata": {
        "id": "t1uekAzhmTOL"
      },
      "source": [
        "## Queuing/Stacking"
      ]
    },
    {
      "cell_type": "markdown",
      "metadata": {
        "id": "8su-mFdPmd9e"
      },
      "source": [
        "You can make a stack out of a list by using the `pop()` function.  Stacking works in such a way that the last item in is the first item out (LIFO).  The pop function returns the last item on the list, and erases it off the list for you.  So in our grocery store list, if we pop each item, we'll know what to look for next, and erases it off the list."
      ]
    },
    {
      "cell_type": "code",
      "execution_count": null,
      "metadata": {
        "colab": {
          "base_uri": "https://localhost:8080/",
          "height": 35
        },
        "id": "FEPaWDn9sFqh",
        "outputId": "91562ef1-2781-4fa2-a0f3-a39142b00c89"
      },
      "outputs": [
        {
          "data": {
            "text/plain": [
              "['Bananas', 'Berries', 'Waffles', 'Yogurt', 'Low Fat Shredded Cheese']"
            ]
          },
          "execution_count": 12,
          "metadata": {},
          "output_type": "execute_result"
        }
      ],
      "source": [
        "my_grocery_list"
      ]
    },
    {
      "cell_type": "code",
      "execution_count": null,
      "metadata": {
        "colab": {
          "base_uri": "https://localhost:8080/",
          "height": 53
        },
        "id": "jtMUGf_EmV1c",
        "outputId": "de6fe607-c263-49c7-b76c-3e46a202a0ac"
      },
      "outputs": [
        {
          "name": "stdout",
          "output_type": "stream",
          "text": [
            "Current item is Low Fat Shredded Cheese\n",
            "['Bananas', 'Berries', 'Waffles', 'Yogurt']\n"
          ]
        }
      ],
      "source": [
        "current_item = my_grocery_list.pop()\n",
        "print(f\"Current item is {current_item}\")\n",
        "print(my_grocery_list)"
      ]
    },
    {
      "cell_type": "markdown",
      "metadata": {
        "id": "55XFqoaJc5hm"
      },
      "source": [
        "You can make a queue by popping the 1st element off the list instead of leaving the parenthesis empty."
      ]
    },
    {
      "cell_type": "code",
      "execution_count": null,
      "metadata": {
        "id": "6zrE2zpHc5hm",
        "outputId": "493890db-f494-4b4e-aaab-3c17e43a6917"
      },
      "outputs": [
        {
          "name": "stdout",
          "output_type": "stream",
          "text": [
            "Current item is Berries\n",
            "['Waffles', 'Yogurt']\n"
          ]
        }
      ],
      "source": [
        "current_item = my_grocery_list.pop(0)\n",
        "print(f\"Current item is {current_item}\")\n",
        "print(my_grocery_list)"
      ]
    },
    {
      "cell_type": "markdown",
      "metadata": {
        "id": "nPOfTjgMc5hm"
      },
      "source": [
        "Let's pop all the items off the list until there's nothing left."
      ]
    },
    {
      "cell_type": "code",
      "execution_count": null,
      "metadata": {
        "colab": {
          "base_uri": "https://localhost:8080/",
          "height": 53
        },
        "id": "7HitdTOGm6n2",
        "outputId": "bef8d769-e5a6-43ad-d4ab-f9cc85c2ca2f"
      },
      "outputs": [
        {
          "name": "stdout",
          "output_type": "stream",
          "text": [
            "Current item is Yogurt\n",
            "['Bananas', 'Berries', 'Waffles']\n"
          ]
        }
      ],
      "source": [
        "current_item = my_grocery_list.pop()\n",
        "print(f\"Current item is {current_item}\")\n",
        "print(my_grocery_list)"
      ]
    },
    {
      "cell_type": "code",
      "execution_count": null,
      "metadata": {
        "colab": {
          "base_uri": "https://localhost:8080/",
          "height": 53
        },
        "id": "diILNq4dm7B9",
        "outputId": "200de36d-7547-4f63-b43c-33df203a1e8f"
      },
      "outputs": [
        {
          "name": "stdout",
          "output_type": "stream",
          "text": [
            "Current item is Waffles\n",
            "['Bananas', 'Berries']\n"
          ]
        }
      ],
      "source": [
        "current_item = my_grocery_list.pop()\n",
        "print(f\"Current item is {current_item}\")\n",
        "print(my_grocery_list)"
      ]
    },
    {
      "cell_type": "code",
      "execution_count": null,
      "metadata": {
        "colab": {
          "base_uri": "https://localhost:8080/",
          "height": 53
        },
        "id": "GHmPImqCm7RU",
        "outputId": "3a91036f-1350-44ff-ad85-f0983ef688bf"
      },
      "outputs": [
        {
          "name": "stdout",
          "output_type": "stream",
          "text": [
            "Current item is Berries\n",
            "['Bananas']\n"
          ]
        }
      ],
      "source": [
        "current_item = my_grocery_list.pop()\n",
        "print(f\"Current item is {current_item}\")\n",
        "print(my_grocery_list)"
      ]
    },
    {
      "cell_type": "code",
      "execution_count": null,
      "metadata": {
        "colab": {
          "base_uri": "https://localhost:8080/",
          "height": 53
        },
        "id": "bR3tYsXcsRbm",
        "outputId": "b62493d9-4d92-470e-edd6-6f582a6d0ae8"
      },
      "outputs": [
        {
          "name": "stdout",
          "output_type": "stream",
          "text": [
            "Current item is Bananas\n",
            "[]\n"
          ]
        }
      ],
      "source": [
        "current_item = my_grocery_list.pop()\n",
        "print(f\"Current item is {current_item}\")\n",
        "print(my_grocery_list)"
      ]
    },
    {
      "cell_type": "markdown",
      "metadata": {
        "id": "GGxGUNeEsurf"
      },
      "source": [
        "Tough question:\n",
        "Is my grocery list..\n",
        "\n",
        "- a `None`\n",
        "- b `False`\n",
        "- c `0`\n",
        "- d `[]`\n",
        "- e `\"\"`"
      ]
    },
    {
      "cell_type": "code",
      "execution_count": null,
      "metadata": {
        "colab": {
          "base_uri": "https://localhost:8080/",
          "height": 107
        },
        "id": "AkR-j7RpsYtd",
        "outputId": "88562480-9010-45cc-d26b-dd01c2a05e9e"
      },
      "outputs": [
        {
          "name": "stdout",
          "output_type": "stream",
          "text": [
            "False\n",
            "False\n",
            "False\n",
            "True\n",
            "False\n"
          ]
        }
      ],
      "source": [
        "print(my_grocery_list is None)\n",
        "print(my_grocery_list is False)\n",
        "print(my_grocery_list == 0)\n",
        "print(my_grocery_list == [])\n",
        "print(my_grocery_list == \"\")"
      ]
    },
    {
      "cell_type": "markdown",
      "metadata": {
        "id": "mkk_5pOqtZLP"
      },
      "source": [
        "My grocery list is still a list.  It's just empty.  Think of it like this... we erased everything off the list, but we didn't throw away the piece of paper.\n",
        "\n",
        "All of the wrong answers were wrong because they weren't lists, they were other objects."
      ]
    },
    {
      "cell_type": "code",
      "execution_count": null,
      "metadata": {
        "colab": {
          "base_uri": "https://localhost:8080/",
          "height": 208
        },
        "id": "FhgvYb1tsTpH",
        "outputId": "f67e1a7d-2a01-48fd-bc04-d23f8ff00e57"
      },
      "outputs": [
        {
          "ename": "IndexError",
          "evalue": "ignored",
          "output_type": "error",
          "traceback": [
            "\u001b[0;31m---------------------------------------------------------------------------\u001b[0m",
            "\u001b[0;31mIndexError\u001b[0m                                Traceback (most recent call last)",
            "\u001b[0;32m<ipython-input-48-f36313e03665>\u001b[0m in \u001b[0;36m<module>\u001b[0;34m()\u001b[0m\n\u001b[0;32m----> 1\u001b[0;31m \u001b[0mcurrent_item\u001b[0m \u001b[0;34m=\u001b[0m \u001b[0mmy_grocery_list\u001b[0m\u001b[0;34m.\u001b[0m\u001b[0mpop\u001b[0m\u001b[0;34m(\u001b[0m\u001b[0;34m)\u001b[0m\u001b[0;34m\u001b[0m\u001b[0;34m\u001b[0m\u001b[0m\n\u001b[0m\u001b[1;32m      2\u001b[0m \u001b[0mprint\u001b[0m\u001b[0;34m(\u001b[0m\u001b[0;34mf\"Current item is {current_item}\"\u001b[0m\u001b[0;34m)\u001b[0m\u001b[0;34m\u001b[0m\u001b[0;34m\u001b[0m\u001b[0m\n\u001b[1;32m      3\u001b[0m \u001b[0mprint\u001b[0m\u001b[0;34m(\u001b[0m\u001b[0mmy_grocery_list\u001b[0m\u001b[0;34m)\u001b[0m\u001b[0;34m\u001b[0m\u001b[0;34m\u001b[0m\u001b[0m\n",
            "\u001b[0;31mIndexError\u001b[0m: pop from empty list"
          ]
        }
      ],
      "source": [
        "current_item = my_grocery_list.pop()\n",
        "print(f\"Current item is {current_item}\")\n",
        "print(my_grocery_list)"
      ]
    },
    {
      "cell_type": "code",
      "execution_count": null,
      "metadata": {
        "colab": {
          "base_uri": "https://localhost:8080/",
          "height": 107
        },
        "id": "vxCA9UKltmuF",
        "outputId": "662851ac-6aac-43ad-c4aa-546f7f8fd82f"
      },
      "outputs": [
        {
          "name": "stdout",
          "output_type": "stream",
          "text": [
            "False\n",
            "False\n",
            "False\n",
            "True\n",
            "False\n"
          ]
        }
      ],
      "source": [
        "print(my_grocery_list is None)  # None is it's own type, not a list\n",
        "print(my_grocery_list is False) # False is boolean\n",
        "print(my_grocery_list == 0)     # 0 is an integer\n",
        "print(my_grocery_list == [])    # This is True, it's a list, even though it's empty\n",
        "print(my_grocery_list == \"\")    # This is a string"
      ]
    },
    {
      "cell_type": "markdown",
      "metadata": {
        "id": "vtgaBipH-sd7"
      },
      "source": [
        "## The `in` Operator"
      ]
    },
    {
      "cell_type": "markdown",
      "metadata": {
        "id": "xRIfMSc--sd8"
      },
      "source": [
        "The `in` operator asks whether an element is present inside a collection, and returns a boolean answer. \n"
      ]
    },
    {
      "cell_type": "markdown",
      "metadata": {
        "id": "EqGm1OOj-sd8"
      },
      "source": [
        "### Define a new list to work with"
      ]
    },
    {
      "cell_type": "code",
      "execution_count": null,
      "metadata": {
        "id": "Do58KLFO-sd8"
      },
      "outputs": [],
      "source": [
        "grateful_dead = ['Jerry', 'Phil', 'Pigpen', 'Bill', 'Mickey', 'Bobby']"
      ]
    },
    {
      "cell_type": "code",
      "execution_count": null,
      "metadata": {
        "colab": {
          "base_uri": "https://localhost:8080/",
          "height": 35
        },
        "id": "TuUmqlPk-seA",
        "outputId": "23e99c21-a2c8-46af-c469-bb8bc5c49002"
      },
      "outputs": [
        {
          "data": {
            "text/plain": [
              "True"
            ]
          },
          "execution_count": 51,
          "metadata": {
            "tags": []
          },
          "output_type": "execute_result"
        }
      ],
      "source": [
        "# Check if a particular element is present in the list\n",
        "\"Bobby\" in grateful_dead"
      ]
    },
    {
      "cell_type": "code",
      "execution_count": null,
      "metadata": {
        "colab": {
          "base_uri": "https://localhost:8080/",
          "height": 35
        },
        "id": "4qo3EfA1-seD",
        "outputId": "585e84ae-2876-42c3-9099-497c47c9b1da"
      },
      "outputs": [
        {
          "data": {
            "text/plain": [
              "False"
            ]
          },
          "execution_count": 52,
          "metadata": {
            "tags": []
          },
          "output_type": "execute_result"
        }
      ],
      "source": [
        "# Check if a particular element is present in the list\n",
        "\"John Mayer\" in grateful_dead"
      ]
    },
    {
      "cell_type": "code",
      "execution_count": null,
      "metadata": {
        "colab": {
          "base_uri": "https://localhost:8080/",
          "height": 35
        },
        "id": "N9LaATXu-seH",
        "outputId": "479316a7-1e03-4a42-cc34-2412ea258a10"
      },
      "outputs": [
        {
          "data": {
            "text/plain": [
              "True"
            ]
          },
          "execution_count": 53,
          "metadata": {
            "tags": []
          },
          "output_type": "execute_result"
        }
      ],
      "source": [
        "# The `in` operator can also be combined with the `not` operator\n",
        "\"John Mayer\" not in grateful_dead"
      ]
    },
    {
      "cell_type": "code",
      "execution_count": null,
      "metadata": {
        "colab": {
          "base_uri": "https://localhost:8080/",
          "height": 35
        },
        "id": "ZGaYwydpFX5B",
        "outputId": "4785c729-6b7a-4be4-d3cd-3c2bb6d7567a"
      },
      "outputs": [
        {
          "data": {
            "text/plain": [
              "False"
            ]
          },
          "execution_count": 54,
          "metadata": {
            "tags": []
          },
          "output_type": "execute_result"
        }
      ],
      "source": [
        "dead_and_company = [\"John Mayer\", \"Bob\", \"Oteil\", \"Micky\", \"Jeff\"]\n",
        "dead_and_company == grateful_dead"
      ]
    },
    {
      "cell_type": "code",
      "execution_count": null,
      "metadata": {
        "colab": {
          "base_uri": "https://localhost:8080/",
          "height": 35
        },
        "id": "TkOOd_GzIR44",
        "outputId": "8cd1230b-d3f6-4084-dc18-930edda9c6f2"
      },
      "outputs": [
        {
          "data": {
            "text/plain": [
              "False"
            ]
          },
          "execution_count": 55,
          "metadata": {
            "tags": []
          },
          "output_type": "execute_result"
        }
      ],
      "source": [
        "dead_and_company is grateful_dead"
      ]
    },
    {
      "cell_type": "markdown",
      "metadata": {
        "id": "yhZW_lXp-seK"
      },
      "source": [
        "### Practice with `in`"
      ]
    },
    {
      "cell_type": "code",
      "execution_count": null,
      "metadata": {
        "id": "5PxhKmN4-seN"
      },
      "outputs": [],
      "source": [
        "# Define a list to practice with\n",
        "practice_list = [1, True, 'alpha', 13, '2A03']"
      ]
    },
    {
      "cell_type": "code",
      "execution_count": null,
      "metadata": {
        "colab": {
          "base_uri": "https://localhost:8080/",
          "height": 35
        },
        "id": "0KUGDxWe-seQ",
        "outputId": "41b5fffa-8143-4360-dc06-498ad0ebda1c"
      },
      "outputs": [
        {
          "data": {
            "text/plain": [
              "True"
            ]
          },
          "execution_count": 57,
          "metadata": {
            "tags": []
          },
          "output_type": "execute_result"
        }
      ],
      "source": [
        "13 in practice_list"
      ]
    },
    {
      "cell_type": "code",
      "execution_count": null,
      "metadata": {
        "colab": {
          "base_uri": "https://localhost:8080/",
          "height": 35
        },
        "id": "SNmeM_Q4-seT",
        "outputId": "437fcc91-de3c-4afe-8b71-f02d6cd67581"
      },
      "outputs": [
        {
          "data": {
            "text/plain": [
              "False"
            ]
          },
          "execution_count": 58,
          "metadata": {
            "tags": []
          },
          "output_type": "execute_result"
        }
      ],
      "source": [
        "False in practice_list"
      ]
    },
    {
      "cell_type": "code",
      "execution_count": null,
      "metadata": {
        "colab": {
          "base_uri": "https://localhost:8080/",
          "height": 35
        },
        "id": "YvjxE32o-seW",
        "outputId": "92fe1419-8a08-453c-fd60-ed8f32c923c6"
      },
      "outputs": [
        {
          "data": {
            "text/plain": [
              "False"
            ]
          },
          "execution_count": 59,
          "metadata": {
            "tags": []
          },
          "output_type": "execute_result"
        }
      ],
      "source": [
        "'True' in practice_list"
      ]
    },
    {
      "cell_type": "code",
      "execution_count": null,
      "metadata": {
        "colab": {
          "base_uri": "https://localhost:8080/",
          "height": 35
        },
        "id": "ZWMu9Fus-sea",
        "outputId": "4f541aa1-0821-429f-aa9d-700f2122679b"
      },
      "outputs": [
        {
          "data": {
            "text/plain": [
              "True"
            ]
          },
          "execution_count": 60,
          "metadata": {
            "tags": []
          },
          "output_type": "execute_result"
        }
      ],
      "source": [
        "True in practice_list"
      ]
    },
    {
      "cell_type": "code",
      "execution_count": null,
      "metadata": {
        "colab": {
          "base_uri": "https://localhost:8080/",
          "height": 35
        },
        "id": "-Py29TzQ-sec",
        "outputId": "dea4be79-e741-46b4-c25a-8fe63636628c"
      },
      "outputs": [
        {
          "data": {
            "text/plain": [
              "False"
            ]
          },
          "execution_count": 61,
          "metadata": {
            "tags": []
          },
          "output_type": "execute_result"
        }
      ],
      "source": [
        "'2A03' not in practice_list"
      ]
    },
    {
      "cell_type": "markdown",
      "metadata": {
        "id": "fYyepzHh-sef"
      },
      "source": [
        "### Question #2\n",
        "\n",
        "After executing the following code, what will be the value of `output`?"
      ]
    },
    {
      "cell_type": "code",
      "execution_count": null,
      "metadata": {
        "colab": {
          "base_uri": "https://localhost:8080/",
          "height": 35
        },
        "id": "HR4-JU5y-sef",
        "outputId": "ad88fc1d-4cad-4096-a66e-540a980d5ca2"
      },
      "outputs": [
        {
          "name": "stdout",
          "output_type": "stream",
          "text": [
            "True\n"
          ]
        }
      ],
      "source": [
        "example2_list = [0, False, 'ten', None]\n",
        "\n",
        "boolean_1 = False in example2_list\n",
        "boolean_2 = 10 not in example2_list\n",
        "\n",
        "output = boolean_1 and boolean_2\n",
        "\n",
        "print(output)"
      ]
    },
    {
      "cell_type": "markdown",
      "metadata": {
        "id": "LiCZX9Xa-sej"
      },
      "source": [
        "- a) True\n",
        "- b) False\n",
        "- c) This code will fail\n",
        "- d) I don't know"
      ]
    },
    {
      "cell_type": "markdown",
      "metadata": {
        "id": "KyKkIXih-sek"
      },
      "source": [
        "### Reminder"
      ]
    },
    {
      "cell_type": "markdown",
      "metadata": {
        "id": "UO_-fw4k-sek"
      },
      "source": [
        "- The `in` operator checks whether an element is present in a collection, and can be negated with `not`"
      ]
    },
    {
      "cell_type": "markdown",
      "metadata": {
        "id": "qLL3elj8-sek"
      },
      "source": [
        "## Mutating a List"
      ]
    },
    {
      "cell_type": "markdown",
      "metadata": {
        "id": "zlcwQpY0-sek"
      },
      "source": [
        "Lists are mutable, meaning after definition, you can update and change things about the list.\n",
        "\n",
        "Think of the word 'mutable' like 'mutate'. When you mutate, you change. A mutable list can mutate or change."
      ]
    },
    {
      "cell_type": "markdown",
      "metadata": {
        "id": "XF9omBId-sel"
      },
      "source": [
        "Remember my grocery list?"
      ]
    },
    {
      "cell_type": "code",
      "execution_count": null,
      "metadata": {
        "colab": {
          "base_uri": "https://localhost:8080/",
          "height": 35
        },
        "id": "fd2ZSzMe-sel",
        "outputId": "7f493183-bad1-495b-85d6-c222777ee990"
      },
      "outputs": [
        {
          "name": "stdout",
          "output_type": "stream",
          "text": [
            "['Bananas', 'Berries', 'Waffles', 'Yogurt', 'Low Fat Shredded Cheese']\n"
          ]
        }
      ],
      "source": [
        "my_grocery_list = ['Bananas', 'Berries', 'Waffles', 'Yogurt', 'Low Fat Shredded Cheese']\n",
        "print(my_grocery_list)"
      ]
    },
    {
      "cell_type": "markdown",
      "metadata": {
        "id": "8aAepnVP-sep"
      },
      "source": [
        "Fortinos called about my cubside pickup.  They checked the stock, and substituted Waffles with Popcorn because quarrantine"
      ]
    },
    {
      "cell_type": "markdown",
      "metadata": {
        "id": "-xeIYAAcMk53"
      },
      "source": [
        "Redefine a particular element of the list"
      ]
    },
    {
      "cell_type": "code",
      "execution_count": null,
      "metadata": {
        "id": "VwU1xhV4-sep"
      },
      "outputs": [],
      "source": [
        "my_grocery_list[2] = \"Popcorn\""
      ]
    },
    {
      "cell_type": "markdown",
      "metadata": {
        "id": "aAAE0WKGMnFG"
      },
      "source": [
        "Check the contents of the list"
      ]
    },
    {
      "cell_type": "code",
      "execution_count": null,
      "metadata": {
        "colab": {
          "base_uri": "https://localhost:8080/",
          "height": 35
        },
        "id": "nOsLmyR1-ses",
        "outputId": "1ac7d1e3-3516-434b-a0ec-29e518f586b1"
      },
      "outputs": [
        {
          "name": "stdout",
          "output_type": "stream",
          "text": [
            "['Bananas', 'Berries', 'Popcorn', 'Yogurt', 'Low Fat Shredded Cheese']\n"
          ]
        }
      ],
      "source": [
        "print(my_grocery_list)"
      ]
    },
    {
      "cell_type": "markdown",
      "metadata": {
        "id": "RvHWmp0l-sev"
      },
      "source": [
        "## Sorting Lists\n"
      ]
    },
    {
      "cell_type": "markdown",
      "metadata": {
        "id": "lKJfuQr8-sew"
      },
      "source": [
        "Let's say for some odd reason I like my grocery list alphabetized.  How do I do that?"
      ]
    },
    {
      "cell_type": "markdown",
      "metadata": {
        "id": "gxcFpRic-sew"
      },
      "source": [
        "#### There are at least 2 ways to sort lists\n",
        "- The first way is to call the sorted function\n",
        "    - This shows what a sorted list would look like, but doesn't sort the list\n",
        "- The second way is to call the sort method\n",
        "    - This actuall sorts the list\n"
      ]
    },
    {
      "cell_type": "code",
      "execution_count": null,
      "metadata": {
        "colab": {
          "base_uri": "https://localhost:8080/",
          "height": 35
        },
        "id": "2uhkqqnv-sex",
        "outputId": "94840b3e-854b-43ff-bd9d-00f94c2c728e"
      },
      "outputs": [
        {
          "data": {
            "text/plain": [
              "['Bananas', 'Berries', 'Low Fat Shredded Cheese', 'Popcorn', 'Yogurt']"
            ]
          },
          "execution_count": 66,
          "metadata": {
            "tags": []
          },
          "output_type": "execute_result"
        }
      ],
      "source": [
        "sorted(my_grocery_list)"
      ]
    },
    {
      "cell_type": "code",
      "execution_count": null,
      "metadata": {
        "colab": {
          "base_uri": "https://localhost:8080/",
          "height": 35
        },
        "id": "ahE7K2lV-sez",
        "outputId": "2c99f160-8e49-4df0-86c6-a02f05b782c9"
      },
      "outputs": [
        {
          "name": "stdout",
          "output_type": "stream",
          "text": [
            "['Bananas', 'Berries', 'Popcorn', 'Yogurt', 'Low Fat Shredded Cheese']\n"
          ]
        }
      ],
      "source": [
        "print(my_grocery_list)"
      ]
    },
    {
      "cell_type": "markdown",
      "metadata": {
        "id": "TJV6t2o4vQqB"
      },
      "source": [
        "`sorted` is a function that returns a new, sorted version of that original list, but it doesn't change the original list"
      ]
    },
    {
      "cell_type": "markdown",
      "metadata": {
        "id": "DDhE3jocMw1Q"
      },
      "source": [
        "If I wanted to use sorted, I'd have to save my list again, like this:"
      ]
    },
    {
      "cell_type": "code",
      "execution_count": null,
      "metadata": {
        "colab": {
          "base_uri": "https://localhost:8080/",
          "height": 35
        },
        "id": "G7wZ4AakM0GY",
        "outputId": "fdc1e75d-b42d-4cbe-81e3-adf310302ae8"
      },
      "outputs": [
        {
          "data": {
            "text/plain": [
              "['Bananas', 'Berries', 'Low Fat Shredded Cheese', 'Popcorn', 'Yogurt']"
            ]
          },
          "execution_count": 68,
          "metadata": {
            "tags": []
          },
          "output_type": "execute_result"
        }
      ],
      "source": [
        "sorted_list = sorted(my_grocery_list)\n",
        "sorted_list"
      ]
    },
    {
      "cell_type": "markdown",
      "metadata": {
        "id": "hjz0Q1QHM7hI"
      },
      "source": [
        "But the original list would be unchanged"
      ]
    },
    {
      "cell_type": "code",
      "execution_count": null,
      "metadata": {
        "colab": {
          "base_uri": "https://localhost:8080/",
          "height": 35
        },
        "id": "btR5Bq9TNA7O",
        "outputId": "16d38ba2-9fa1-4394-b076-ddd616c50a8e"
      },
      "outputs": [
        {
          "data": {
            "text/plain": [
              "['Bananas', 'Berries', 'Popcorn', 'Yogurt', 'Low Fat Shredded Cheese']"
            ]
          },
          "execution_count": 69,
          "metadata": {
            "tags": []
          },
          "output_type": "execute_result"
        }
      ],
      "source": [
        "my_grocery_list"
      ]
    },
    {
      "cell_type": "markdown",
      "metadata": {
        "id": "XKVDk2IzNDYt"
      },
      "source": [
        "If I want to skip a step, I can sort my list *in-place*, meaning it overwrites the original list.  This can be dangerous, so be careful."
      ]
    },
    {
      "cell_type": "code",
      "execution_count": null,
      "metadata": {
        "colab": {
          "base_uri": "https://localhost:8080/",
          "height": 35
        },
        "id": "dfGl4dOZ-se1",
        "outputId": "f7e20b5d-639f-42ad-a3b7-a9b1eaebdef9"
      },
      "outputs": [
        {
          "name": "stdout",
          "output_type": "stream",
          "text": [
            "['Bananas', 'Berries', 'Low Fat Shredded Cheese', 'Popcorn', 'Yogurt']\n"
          ]
        }
      ],
      "source": [
        "my_grocery_list.sort()\n",
        "print(my_grocery_list)"
      ]
    },
    {
      "cell_type": "markdown",
      "metadata": {
        "id": "XVyzSovu-se4"
      },
      "source": [
        "## Deep dive - why are there 2 ways to run a function?\n",
        "\n",
        "#### There is a difference between functions and methods.  \n",
        "A method is a function inside a class.  \n",
        "\n",
        "#### What's a class? \n",
        "A class is a data structure that we use to define new objects.\n",
        "\n"
      ]
    },
    {
      "cell_type": "markdown",
      "metadata": {
        "id": "o6ZJieBwwCsm"
      },
      "source": [
        "#### What is in-place? \n",
        "\n",
        "**The original list stays the same.**  \n",
        "`sorted` is a function that returns the sorted list as an object in the `return` statement.  To return a sorted list here, do: `my_sorted_grocery_list = sorted(my_grocery_list)`.  \n",
        "\n",
        "**The original list changes.**  \n",
        "`sort` is an in-place method, which is run on the list object and returns storted list.  To return a sorted list here, do: `my_grocery_list.sort()`. \n"
      ]
    },
    {
      "cell_type": "markdown",
      "metadata": {
        "id": "PsWkjqGU-se4"
      },
      "source": [
        "## Randomizing lists"
      ]
    },
    {
      "cell_type": "markdown",
      "metadata": {
        "id": "-J1wPkut-se6"
      },
      "source": [
        "### Let's make a Psychology example here\n",
        "In an experiment about reading, we might ask people to to read some words on the screen and speak them aloud. We might measure how quickly they respond (i.e. their reaction time). \n",
        "\n",
        " If we wanted to present some words in a random order, we could make a `word_list` and use the `random.shuffle` function to randomize the order of elements in the list.  This command works `in-place`, meaning it overwrites the original order with the new randomized order automatically.\n",
        "\n"
      ]
    },
    {
      "cell_type": "code",
      "execution_count": null,
      "metadata": {
        "colab": {
          "base_uri": "https://localhost:8080/",
          "height": 35
        },
        "id": "OP0tfKaU-se6",
        "outputId": "a07f2fa1-6f4a-478d-a531-d1b1cfb84115"
      },
      "outputs": [
        {
          "data": {
            "text/plain": [
              "['basketball', 'elbow', 'syrup', 'apple', 'remote', 'computer', 'ameoba']"
            ]
          },
          "execution_count": 71,
          "metadata": {
            "tags": []
          },
          "output_type": "execute_result"
        }
      ],
      "source": [
        "word_list = [\n",
        "    'basketball',\n",
        "    'elbow',\n",
        "    'syrup',\n",
        "    'apple',\n",
        "    'remote',\n",
        "    'computer',\n",
        "    'ameoba',\n",
        "]\n",
        "word_list"
      ]
    },
    {
      "cell_type": "markdown",
      "metadata": {
        "id": "JRCz2f9nN705"
      },
      "source": [
        "### Importing modules\n",
        "In order to randomize our data, we'll need to `import` code from another Python module. The `random` module helps randomize lists, and comes with Python.  In order to use the code in the `random` module, we type `import random`.  Then, we call the function `shuffle` from `random`."
      ]
    },
    {
      "cell_type": "code",
      "execution_count": null,
      "metadata": {
        "colab": {
          "base_uri": "https://localhost:8080/",
          "height": 35
        },
        "id": "1cB6qzhx-se9",
        "outputId": "2ee389ee-3944-42f0-812c-829ffbf42055"
      },
      "outputs": [
        {
          "name": "stdout",
          "output_type": "stream",
          "text": [
            "['apple', 'computer', 'ameoba', 'remote', 'syrup', 'elbow', 'basketball']\n"
          ]
        }
      ],
      "source": [
        "import random\n",
        "\n",
        "random.shuffle(word_list)\n",
        "print(word_list)"
      ]
    },
    {
      "cell_type": "markdown",
      "metadata": {
        "id": "YaLiZHWgwkj6"
      },
      "source": [
        "**Deep Dive**\n",
        "How do you tell running a function from a module from running a method on an instance of an object?  \n",
        "\n",
        "They both have the format: `word1.word2()`"
      ]
    },
    {
      "cell_type": "markdown",
      "metadata": {
        "id": "aiJZdDF8w4V5"
      },
      "source": [
        "`type` tells us what is going on.\n",
        "\n",
        "Here you can see that random is a module.  If we were running a method, it would say something else."
      ]
    },
    {
      "cell_type": "code",
      "execution_count": null,
      "metadata": {
        "colab": {
          "base_uri": "https://localhost:8080/",
          "height": 35
        },
        "id": "R-LjTn2KweIc",
        "outputId": "9341f6c5-ccc5-40ac-f100-0e1ab09c4be7"
      },
      "outputs": [
        {
          "name": "stdout",
          "output_type": "stream",
          "text": [
            "<class 'module'>\n"
          ]
        }
      ],
      "source": [
        "print(type(random))"
      ]
    },
    {
      "cell_type": "markdown",
      "metadata": {
        "id": "23gYSgKgxkaa"
      },
      "source": [
        "Here's what it looks like to run a method"
      ]
    },
    {
      "cell_type": "code",
      "execution_count": null,
      "metadata": {
        "colab": {
          "base_uri": "https://localhost:8080/",
          "height": 71
        },
        "id": "LD1iFyWUxFle",
        "outputId": "23a55ff7-411b-477f-fe35-6a344ea37662"
      },
      "outputs": [
        {
          "name": "stdout",
          "output_type": "stream",
          "text": [
            "apple\n",
            "APPLE\n",
            "<class 'str'>\n"
          ]
        }
      ],
      "source": [
        "word = word_list[0]\n",
        "print(word)\n",
        "print(word.upper())\n",
        "print(type(word))"
      ]
    },
    {
      "cell_type": "markdown",
      "metadata": {
        "id": "gU9cZ3yJx0Ty"
      },
      "source": [
        "There *can* be nothing in the parentheses of methods, but there *can't* be nothing in the parentheses of running a function from another module."
      ]
    },
    {
      "cell_type": "markdown",
      "metadata": {
        "id": "41rFyKo6OLP3"
      },
      "source": [
        "#### More random sampling..."
      ]
    },
    {
      "cell_type": "markdown",
      "metadata": {
        "id": "xwRVb7HUPLpS"
      },
      "source": [
        "To get a random sample of words from the list, use `random.sample(population, k)`, where population is the list, and k is the number of elements you want to sample."
      ]
    },
    {
      "cell_type": "code",
      "execution_count": null,
      "metadata": {
        "colab": {
          "base_uri": "https://localhost:8080/",
          "height": 35
        },
        "id": "mAVDOQUXOIAe",
        "outputId": "5ea6e699-96a9-4d9b-887f-fa70676092cb"
      },
      "outputs": [
        {
          "data": {
            "text/plain": [
              "['computer', 'basketball', 'apple']"
            ]
          },
          "execution_count": 79,
          "metadata": {
            "tags": []
          },
          "output_type": "execute_result"
        }
      ],
      "source": [
        "random.sample(word_list, 3)"
      ]
    },
    {
      "cell_type": "markdown",
      "metadata": {
        "id": "fmgIMjHIPgfE"
      },
      "source": [
        "You can even get random numbers from specified distributions..."
      ]
    },
    {
      "cell_type": "code",
      "execution_count": null,
      "metadata": {
        "colab": {
          "base_uri": "https://localhost:8080/",
          "height": 197
        },
        "id": "g6pM8yMgPRfn",
        "outputId": "2bd92404-b2f5-4b57-9918-1faff14a18dd"
      },
      "outputs": [
        {
          "name": "stdout",
          "output_type": "stream",
          "text": [
            "-0.231304955974448\n",
            "1.4153800857721746\n",
            "-0.4850610095591914\n",
            "-0.8935891094166484\n",
            "-1.2528402405085464\n",
            "0.6120130667851391\n",
            "-0.5660479119112538\n",
            "1.644828798459862\n",
            "0.512186171086737\n",
            "0.9560344369507843\n"
          ]
        }
      ],
      "source": [
        "print(random.normalvariate(0.5,1))\n",
        "print(random.normalvariate(0.5,1))\n",
        "print(random.normalvariate(0.5,1))\n",
        "print(random.normalvariate(0.5,1))\n",
        "print(random.normalvariate(0.5,1))\n",
        "print(random.normalvariate(0.5,1))\n",
        "print(random.normalvariate(0.5,1))\n",
        "print(random.normalvariate(0.5,1))\n",
        "print(random.normalvariate(0.5,1))\n",
        "print(random.normalvariate(0.5,1))"
      ]
    },
    {
      "cell_type": "markdown",
      "metadata": {
        "id": "DGwZ_n1bQduq"
      },
      "source": [
        "Here's a link to the `random` documentation:\n",
        "https://docs.python.org/3/library/random.html"
      ]
    },
    {
      "cell_type": "code",
      "execution_count": null,
      "metadata": {
        "id": "17VUR0hRSZKI"
      },
      "outputs": [],
      "source": []
    }
  ],
  "metadata": {
    "colab": {
      "collapsed_sections": [],
      "provenance": [],
      "include_colab_link": true
    },
    "kernelspec": {
      "display_name": "Python 3",
      "language": "python",
      "name": "python3"
    },
    "language_info": {
      "codemirror_mode": {
        "name": "ipython",
        "version": 3
      },
      "file_extension": ".py",
      "mimetype": "text/x-python",
      "name": "python",
      "nbconvert_exporter": "python",
      "pygments_lexer": "ipython3",
      "version": "3.8.5"
    }
  },
  "nbformat": 4,
  "nbformat_minor": 0
}