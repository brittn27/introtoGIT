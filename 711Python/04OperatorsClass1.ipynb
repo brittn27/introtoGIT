{
  "cells": [
    {
      "cell_type": "markdown",
      "metadata": {
        "id": "view-in-github",
        "colab_type": "text"
      },
      "source": [
        "<a href=\"https://colab.research.google.com/github/brittn27/introtoGIT/blob/main/04OperatorsClass1.ipynb\" target=\"_parent\"><img src=\"https://colab.research.google.com/assets/colab-badge.svg\" alt=\"Open In Colab\"/></a>"
      ]
    },
    {
      "cell_type": "markdown",
      "metadata": {
        "id": "sccwhBKE928g"
      },
      "source": [
        "# Operators"
      ]
    },
    {
      "cell_type": "code",
      "execution_count": null,
      "metadata": {
        "tags": [
          "hide-input"
        ],
        "id": "A9JCdBsaXc3V"
      },
      "outputs": [],
      "source": [
        "%load_ext lab_black"
      ]
    },
    {
      "cell_type": "markdown",
      "metadata": {
        "id": "xU68QYmi928j"
      },
      "source": [
        "## Assignment Operators\n",
        "\n",
        "Assignment operators are used in Python to assign values to variables.  \n",
        "These are just shortcuts, and you can *always* do it the long way if that's easier when you're first starting out.\n",
        "\n",
        "<div class=\"alert alert-info\" role=\"alert\">\n",
        "<code>a = 5</code> is a simple assignment operator that assigns the value 5 on the right to the variable a on the left.\n",
        "There are various compound operators in Python like <code>a += 5</code> that adds to the variable and later assigns the same. It is equivalent to <code>a = a + 5</code>.\n",
        "    </div>"
      ]
    },
    {
      "cell_type": "markdown",
      "metadata": {
        "id": "De4DQRD0928l"
      },
      "source": [
        "Python uses `=` for assignment.\n",
        "\n",
        "- In Python you can read the `=` sign as \"gets\".\n",
        "- To compare things, you can read `==` as \"is equivalent to\".\n",
        "- R users, be careful. `<-` is not a thing in Python."
      ]
    },
    {
      "cell_type": "code",
      "execution_count": null,
      "metadata": {
        "tags": [
          "hidecode"
        ],
        "id": "7Tdt1CbnXc3X",
        "outputId": "a1e69387-f2dd-47fb-995a-c96ee4571e65"
      },
      "outputs": [
        {
          "ename": "ModuleNotFoundError",
          "evalue": "No module named 'pandas'",
          "output_type": "error",
          "traceback": [
            "\u001b[0;31m---------------------------------------------------------------------------\u001b[0m",
            "\u001b[0;31mModuleNotFoundError\u001b[0m                       Traceback (most recent call last)",
            "\u001b[0;32m<ipython-input-1-107173f4b92e>\u001b[0m in \u001b[0;36m<module>\u001b[0;34m\u001b[0m\n\u001b[0;32m----> 1\u001b[0;31m \u001b[0;32mimport\u001b[0m \u001b[0mpandas\u001b[0m \u001b[0;32mas\u001b[0m \u001b[0mpd\u001b[0m\u001b[0;34m\u001b[0m\u001b[0;34m\u001b[0m\u001b[0m\n\u001b[0m\u001b[1;32m      2\u001b[0m \u001b[0;34m\u001b[0m\u001b[0m\n\u001b[1;32m      3\u001b[0m assignment_df = pd.DataFrame(\n\u001b[1;32m      4\u001b[0m     {\n\u001b[1;32m      5\u001b[0m         \"Name\": [\n",
            "\u001b[0;31mModuleNotFoundError\u001b[0m: No module named 'pandas'"
          ]
        }
      ],
      "source": [
        "import pandas as pd\n",
        "\n",
        "assignment_df = pd.DataFrame(\n",
        "    {\n",
        "        \"Name\": [\n",
        "            \"Equals\",\n",
        "            \"Plus Equals\",\n",
        "            \"Minus Equals\",\n",
        "            \"Times Equals\",\n",
        "            \"Divided by Equals\",\n",
        "            \"Modulo Equals\",\n",
        "            \"Floor Division Equals\",\n",
        "            \"Exponent Equals\",\n",
        "        ],\n",
        "        \"Operator Shortcut\": [\n",
        "            \"x = 2\",\n",
        "            \"x += 2\",\n",
        "            \"x -= 2\",\n",
        "            \"x *= 2\",\n",
        "            \"x /= 2\",\n",
        "            \"x %= 2\",\n",
        "            \"x //= 2\",\n",
        "            \"x **2\",\n",
        "        ],\n",
        "        \"The Long Way\": [\n",
        "            \"x = 2\",\n",
        "            \"x = x + 2\",\n",
        "            \"x = x - 2\",\n",
        "            \"x = x * 2\",\n",
        "            \"x  = x / 2\",\n",
        "            \"x = x % 2\",\n",
        "            \"x = x //2\",\n",
        "            \"x = x ** 2\",\n",
        "        ],\n",
        "        \"Value of x if x starts at 2\": [2, 2, 0, 4, 1, 0, 1, 4],\n",
        "    }\n",
        ")\n",
        "assignment_df.set_index(\"Name\", inplace=True)\n",
        "assignment_df"
      ]
    },
    {
      "cell_type": "markdown",
      "metadata": {
        "id": "dmhDkpvk928y"
      },
      "source": [
        "## Math Operators"
      ]
    },
    {
      "cell_type": "markdown",
      "metadata": {
        "id": "AOIkgldr9280"
      },
      "source": [
        "<div class=\"alert alert-success\">\n",
        "Python uses mathematical operators `+`, `-`, `*`, `/` for 'sum', 'substract', 'multiply', and 'divide'. These operators return numbers.\n",
        "</div>"
      ]
    },
    {
      "cell_type": "code",
      "execution_count": null,
      "metadata": {
        "tags": [
          "hidecode"
        ],
        "id": "yhv55QJSXc3Z",
        "outputId": "06c9f792-bf0b-433e-8269-0308f70d7959"
      },
      "outputs": [
        {
          "data": {
            "text/html": [
              "<div>\n",
              "<style scoped>\n",
              "    .dataframe tbody tr th:only-of-type {\n",
              "        vertical-align: middle;\n",
              "    }\n",
              "\n",
              "    .dataframe tbody tr th {\n",
              "        vertical-align: top;\n",
              "    }\n",
              "\n",
              "    .dataframe thead th {\n",
              "        text-align: right;\n",
              "    }\n",
              "</style>\n",
              "<table border=\"1\" class=\"dataframe\">\n",
              "  <thead>\n",
              "    <tr style=\"text-align: right;\">\n",
              "      <th></th>\n",
              "      <th>Operator</th>\n",
              "      <th>What it does to collections</th>\n",
              "    </tr>\n",
              "    <tr>\n",
              "      <th>Name</th>\n",
              "      <th></th>\n",
              "      <th></th>\n",
              "    </tr>\n",
              "  </thead>\n",
              "  <tbody>\n",
              "    <tr>\n",
              "      <th>Add</th>\n",
              "      <td>+</td>\n",
              "      <td>Concatenate x and y</td>\n",
              "    </tr>\n",
              "    <tr>\n",
              "      <th>Subtract</th>\n",
              "      <td>-</td>\n",
              "      <td>Removes y from x</td>\n",
              "    </tr>\n",
              "    <tr>\n",
              "      <th>Multiply</th>\n",
              "      <td>*</td>\n",
              "      <td>Repeats x</td>\n",
              "    </tr>\n",
              "    <tr>\n",
              "      <th>Divide</th>\n",
              "      <td>/</td>\n",
              "      <td>Can't do this to collections</td>\n",
              "    </tr>\n",
              "    <tr>\n",
              "      <th>Modulo</th>\n",
              "      <td>%</td>\n",
              "      <td>Can't do this to collections</td>\n",
              "    </tr>\n",
              "    <tr>\n",
              "      <th>Floor Division</th>\n",
              "      <td>//</td>\n",
              "      <td>Can't do this to collections</td>\n",
              "    </tr>\n",
              "    <tr>\n",
              "      <th>Exponent</th>\n",
              "      <td>**</td>\n",
              "      <td>Can't do this to collections</td>\n",
              "    </tr>\n",
              "  </tbody>\n",
              "</table>\n",
              "</div>"
            ],
            "text/plain": [
              "               Operator   What it does to collections\n",
              "Name                                                 \n",
              "Add                   +           Concatenate x and y\n",
              "Subtract              -              Removes y from x\n",
              "Multiply              *                     Repeats x\n",
              "Divide                /  Can't do this to collections\n",
              "Modulo                %  Can't do this to collections\n",
              "Floor Division       //  Can't do this to collections\n",
              "Exponent             **  Can't do this to collections"
            ]
          },
          "execution_count": 3,
          "metadata": {},
          "output_type": "execute_result"
        }
      ],
      "source": [
        "math_df = pd.DataFrame(\n",
        "    {\n",
        "        \"Name\": [\n",
        "            \"Add\",\n",
        "            \"Subtract\",\n",
        "            \"Multiply\",\n",
        "            \"Divide\",\n",
        "            \"Modulo\",\n",
        "            \"Floor Division\",\n",
        "            \"Exponent\",\n",
        "        ],\n",
        "        \"Operator\": [\"+\", \"-\", \"*\", \"/\", \"%\", \"//\", \"**\"],\n",
        "        \"What it does to collections\": [\n",
        "            \"Concatenate x and y\",\n",
        "            \"Removes y from x\",\n",
        "            \"Repeats x\",\n",
        "            \"Can't do this to collections\",\n",
        "            \"Can't do this to collections\",\n",
        "            \"Can't do this to collections\",\n",
        "            \"Can't do this to collections\",\n",
        "        ],\n",
        "    }\n",
        ")\n",
        "math_df.set_index(\"Name\", inplace=True)\n",
        "math_df"
      ]
    },
    {
      "cell_type": "markdown",
      "metadata": {
        "id": "A5J4KsA29281"
      },
      "source": [
        "Addition"
      ]
    },
    {
      "cell_type": "code",
      "execution_count": null,
      "metadata": {
        "id": "1R6Qnb2x9282",
        "outputId": "9bb898be-28f9-43f4-f481-29bbe5ae9c0b"
      },
      "outputs": [
        {
          "data": {
            "text/plain": [
              "5"
            ]
          },
          "execution_count": 4,
          "metadata": {},
          "output_type": "execute_result"
        }
      ],
      "source": [
        "2 + 3"
      ]
    },
    {
      "cell_type": "markdown",
      "metadata": {
        "id": "TIyqVuGJ9289"
      },
      "source": [
        "Subtraction"
      ]
    },
    {
      "cell_type": "code",
      "execution_count": null,
      "metadata": {
        "id": "TdVWsPa8928-",
        "outputId": "6ba4130e-97d3-4645-b7d4-b8df24671c5d"
      },
      "outputs": [
        {
          "data": {
            "text/plain": [
              "-1"
            ]
          },
          "execution_count": 5,
          "metadata": {},
          "output_type": "execute_result"
        }
      ],
      "source": [
        "2 - 3"
      ]
    },
    {
      "cell_type": "markdown",
      "metadata": {
        "id": "jr0Btnxe929E"
      },
      "source": [
        "Multiplication"
      ]
    },
    {
      "cell_type": "code",
      "execution_count": null,
      "metadata": {
        "id": "Ehf6AzuS929F",
        "outputId": "bc0ea0b4-0246-497a-f105-11a842c5702e"
      },
      "outputs": [
        {
          "data": {
            "text/plain": [
              "6"
            ]
          },
          "execution_count": 6,
          "metadata": {},
          "output_type": "execute_result"
        }
      ],
      "source": [
        "2 * 3"
      ]
    },
    {
      "cell_type": "markdown",
      "metadata": {
        "id": "Q5yjS08N929J"
      },
      "source": [
        "Division"
      ]
    },
    {
      "cell_type": "code",
      "execution_count": null,
      "metadata": {
        "id": "LgQy0Na9929K",
        "outputId": "eaba73a5-e888-4928-f01c-c79bda4bc977"
      },
      "outputs": [
        {
          "data": {
            "text/plain": [
              "0.6666666666666666"
            ]
          },
          "execution_count": 7,
          "metadata": {},
          "output_type": "execute_result"
        }
      ],
      "source": [
        "2 / 3"
      ]
    },
    {
      "cell_type": "markdown",
      "metadata": {
        "id": "shXxot_6929O"
      },
      "source": [
        "Remember that Python uses `/` for divisions, and `%` for remainder (called modulus). These also return numbers."
      ]
    },
    {
      "cell_type": "markdown",
      "metadata": {
        "id": "Z-cIHibG929P"
      },
      "source": [
        "Floor Division  \n",
        "\n",
        "Floor division is how many times y can go into x evenly with no remainder"
      ]
    },
    {
      "cell_type": "code",
      "execution_count": null,
      "metadata": {
        "id": "tHw0wuPD929Q",
        "outputId": "5b860f5c-3cd0-4909-ca1f-1a1884b8bd1b"
      },
      "outputs": [
        {
          "data": {
            "text/plain": [
              "1"
            ]
          },
          "execution_count": 8,
          "metadata": {},
          "output_type": "execute_result"
        }
      ],
      "source": [
        "3 // 2"
      ]
    },
    {
      "cell_type": "markdown",
      "metadata": {
        "id": "K1lKRaSR929U"
      },
      "source": [
        "Modulo\n",
        "\n",
        "Modulo is what is the remainder of division problems."
      ]
    },
    {
      "cell_type": "code",
      "execution_count": null,
      "metadata": {
        "id": "JYuRV5ED929U",
        "outputId": "4257c9a7-a3ba-40a6-d02b-5ff3dbc41553"
      },
      "outputs": [
        {
          "data": {
            "text/plain": [
              "1"
            ]
          },
          "execution_count": 9,
          "metadata": {},
          "output_type": "execute_result"
        }
      ],
      "source": [
        "3 % 2"
      ]
    },
    {
      "cell_type": "markdown",
      "metadata": {
        "id": "CzjZac8mXc3d"
      },
      "source": [
        "<div class=\"alert alert-danger\" role=\"alert\">\n",
        "Modulo on floats can give slightly incorrect answers since they use floating point arithemtic.  I recommend sticking to integers for now.\n",
        "    </div>\n"
      ]
    },
    {
      "cell_type": "code",
      "execution_count": null,
      "metadata": {
        "id": "HE1WYZD_Xc3d",
        "outputId": "ef4e512b-99cf-4b2b-c365-e3215fe5e1d0"
      },
      "outputs": [
        {
          "data": {
            "text/plain": [
              "0.09999999999999984"
            ]
          },
          "execution_count": 10,
          "metadata": {},
          "output_type": "execute_result"
        }
      ],
      "source": [
        "3.0 % 0.1"
      ]
    },
    {
      "cell_type": "markdown",
      "metadata": {
        "id": "EM_Jemxc929Z"
      },
      "source": [
        "<div class=\"alert alert-danger\" role=\"alert\">\n",
        "Remember that Python uses <code>**</code> exponentiation. <code>^</code> is for binary comparisons.  We won't be doing that in this course, so for now, you can safely never use <code>^</code>. \n",
        "    </div>\n",
        "    \n",
        "<div class=\"alert alert-warning\" role=\"alert\">\n",
        "Python doesn't have a built-in square root function.  Remember your math and $\\sqrt{X}$ is the same as $X^{0.5}$. Yes, there are square root functions available but for now we are learning python's core programming fundamentals.  We'll learn how to `import` code later.</div>"
      ]
    },
    {
      "cell_type": "code",
      "execution_count": null,
      "metadata": {
        "id": "gj4LGOqK929b",
        "outputId": "38da0fc8-5115-4a7d-892b-153fa2e9fb59"
      },
      "outputs": [
        {
          "data": {
            "text/plain": [
              "1"
            ]
          },
          "execution_count": 11,
          "metadata": {},
          "output_type": "execute_result"
        }
      ],
      "source": [
        "5 ** 0"
      ]
    },
    {
      "cell_type": "code",
      "execution_count": null,
      "metadata": {
        "id": "7R2BiHlr929e",
        "outputId": "0e103135-3400-4cde-f23f-a3acc3140964"
      },
      "outputs": [
        {
          "data": {
            "text/plain": [
              "9.0"
            ]
          },
          "execution_count": 12,
          "metadata": {},
          "output_type": "execute_result"
        }
      ],
      "source": [
        "81 ** 0.5"
      ]
    },
    {
      "cell_type": "markdown",
      "metadata": {
        "id": "POTnEWp4929i"
      },
      "source": [
        "### Don't forget you can do math on variables, and you can also store the results as variables."
      ]
    },
    {
      "cell_type": "code",
      "execution_count": null,
      "metadata": {
        "id": "rQ3r4QeB929j",
        "outputId": "1902fb86-6129-4035-cad8-77bbf64d3335"
      },
      "outputs": [
        {
          "name": "stdout",
          "output_type": "stream",
          "text": [
            "0.125\n"
          ]
        }
      ],
      "source": [
        "slice = 1\n",
        "pizza = slice / 8\n",
        "print(pizza)"
      ]
    },
    {
      "cell_type": "markdown",
      "metadata": {
        "id": "zAoASiqi929o"
      },
      "source": [
        "### If you do math on non-numeric data types, funky things can happen...."
      ]
    },
    {
      "cell_type": "code",
      "execution_count": null,
      "metadata": {
        "id": "M_m2EHLM929p",
        "outputId": "4f24b4fb-9475-4aa2-a995-881383d9ee7f"
      },
      "outputs": [
        {
          "name": "stdout",
          "output_type": "stream",
          "text": [
            "#9\n",
            "#9\n",
            "#9\n",
            "#9\n",
            "#9\n",
            "#9\n",
            "#9\n",
            "#9\n",
            "#9\n",
            "#9\n",
            "#9\n",
            "#9\n",
            "#9\n",
            "#9\n",
            "#9\n",
            "#9\n",
            "#9\n",
            "#9\n",
            "#9\n",
            "#9\n",
            "#9\n",
            "#9\n",
            "#9\n",
            "#9\n",
            "#9\n",
            "#9\n",
            "#9\n",
            "#9\n",
            "#9\n",
            "#9\n",
            "#9\n",
            "#9\n",
            "#9\n",
            "#9\n",
            "#9\n",
            "#9\n",
            "#9\n",
            "#9\n",
            "#9\n",
            "#9\n",
            "#9\n",
            "#9\n",
            "#9\n",
            "#9\n",
            "#9\n",
            "#9\n",
            "#9\n",
            "#9\n",
            "#9\n",
            "#9\n",
            "#9\n",
            "#9\n",
            "#9\n",
            "#9\n",
            "#9\n",
            "#9\n",
            "#9\n",
            "#9\n",
            "#9\n",
            "#9\n",
            "#9\n",
            "#9\n",
            "#9\n",
            "#9\n",
            "#9\n",
            "#9\n",
            "#9\n",
            "#9\n",
            "#9\n",
            "#9\n",
            "#9\n",
            "#9\n",
            "#9\n",
            "#9\n",
            "#9\n",
            "#9\n",
            "#9\n",
            "#9\n",
            "#9\n",
            "#9\n",
            "#9\n",
            "#9\n",
            "#9\n",
            "#9\n",
            "#9\n",
            "#9\n",
            "#9\n",
            "#9\n",
            "#9\n",
            "#9\n",
            "#9\n",
            "#9\n",
            "#9\n",
            "#9\n",
            "#9\n",
            "#9\n",
            "#9\n",
            "#9\n",
            "#9\n",
            "#9\n",
            "\n"
          ]
        }
      ],
      "source": [
        "# Recall the Beatles White Album...\n",
        "revolution = \"#9\\n\"\n",
        "print(revolution * 100)"
      ]
    },
    {
      "cell_type": "markdown",
      "metadata": {
        "id": "2gJfFRfo929s"
      },
      "source": [
        "## Boolean Logic"
      ]
    },
    {
      "cell_type": "markdown",
      "metadata": {
        "id": "4p8TEHnu929s"
      },
      "source": [
        "Python has `and`, `or` and `not` for boolean logic. These operators return booleans."
      ]
    },
    {
      "cell_type": "code",
      "execution_count": null,
      "metadata": {
        "tags": [
          "hidecode"
        ],
        "id": "KO_ohg2RXc3f",
        "outputId": "f0266346-0f0e-4a3a-fa67-4b22e05933af"
      },
      "outputs": [
        {
          "data": {
            "text/html": [
              "<div>\n",
              "<style scoped>\n",
              "    .dataframe tbody tr th:only-of-type {\n",
              "        vertical-align: middle;\n",
              "    }\n",
              "\n",
              "    .dataframe tbody tr th {\n",
              "        vertical-align: top;\n",
              "    }\n",
              "\n",
              "    .dataframe thead th {\n",
              "        text-align: right;\n",
              "    }\n",
              "</style>\n",
              "<table border=\"1\" class=\"dataframe\">\n",
              "  <thead>\n",
              "    <tr style=\"text-align: right;\">\n",
              "      <th></th>\n",
              "      <th>Result is true when</th>\n",
              "      <th>Code sample</th>\n",
              "    </tr>\n",
              "    <tr>\n",
              "      <th>Operator</th>\n",
              "      <th></th>\n",
              "      <th></th>\n",
              "    </tr>\n",
              "  </thead>\n",
              "  <tbody>\n",
              "    <tr>\n",
              "      <th>and</th>\n",
              "      <td>both conditions are true</td>\n",
              "      <td>a and b</td>\n",
              "    </tr>\n",
              "    <tr>\n",
              "      <th>or</th>\n",
              "      <td>either condition is true</td>\n",
              "      <td>a or b</td>\n",
              "    </tr>\n",
              "    <tr>\n",
              "      <th>not</th>\n",
              "      <td>neither condition is true</td>\n",
              "      <td>a not b</td>\n",
              "    </tr>\n",
              "  </tbody>\n",
              "</table>\n",
              "</div>"
            ],
            "text/plain": [
              "                Result is true when Code sample\n",
              "Operator                                       \n",
              "and        both conditions are true     a and b\n",
              "or         either condition is true      a or b\n",
              "not       neither condition is true     a not b"
            ]
          },
          "execution_count": 15,
          "metadata": {},
          "output_type": "execute_result"
        }
      ],
      "source": [
        "boolean_df = pd.DataFrame(\n",
        "    {\n",
        "        \"Operator\": [\n",
        "            \"and\",\n",
        "            \"or\",\n",
        "            \"not\",\n",
        "        ],\n",
        "        \"Result is true when\": [\n",
        "            \"both conditions are true\",\n",
        "            \"either condition is true\",\n",
        "            \"neither condition is true\",\n",
        "        ],\n",
        "        \"Code sample\": [\n",
        "            \"a and b\",\n",
        "            \"a or b\",\n",
        "            \"a not b\",\n",
        "        ],\n",
        "    }\n",
        ")\n",
        "boolean_df.set_index(\"Operator\", inplace=True)\n",
        "boolean_df"
      ]
    },
    {
      "cell_type": "code",
      "execution_count": null,
      "metadata": {
        "id": "wL-eBRh1929v"
      },
      "outputs": [],
      "source": [
        "a = True\n",
        "b = False"
      ]
    },
    {
      "cell_type": "code",
      "execution_count": null,
      "metadata": {
        "id": "_nS5Dv16929y",
        "outputId": "8e03fec3-d07d-4885-fe6d-ae86bbff009e"
      },
      "outputs": [
        {
          "data": {
            "text/plain": [
              "False"
            ]
          },
          "execution_count": 17,
          "metadata": {},
          "output_type": "execute_result"
        }
      ],
      "source": [
        "a and b"
      ]
    },
    {
      "cell_type": "code",
      "execution_count": null,
      "metadata": {
        "id": "cr2T6jl49291",
        "outputId": "7f09e218-1025-45b6-c18f-8e06d44b587c"
      },
      "outputs": [
        {
          "data": {
            "text/plain": [
              "True"
            ]
          },
          "execution_count": 18,
          "metadata": {},
          "output_type": "execute_result"
        }
      ],
      "source": [
        "a or b"
      ]
    },
    {
      "cell_type": "code",
      "execution_count": null,
      "metadata": {
        "id": "OG5h5n1y9295",
        "outputId": "600043ab-c195-4144-e291-36b02ede464e"
      },
      "outputs": [
        {
          "data": {
            "text/plain": [
              "False"
            ]
          },
          "execution_count": 19,
          "metadata": {},
          "output_type": "execute_result"
        }
      ],
      "source": [
        "not a"
      ]
    },
    {
      "cell_type": "code",
      "execution_count": null,
      "metadata": {
        "id": "1y2z70jF9298",
        "outputId": "09ac52a0-7499-4606-fa38-0cf8dff16c1c"
      },
      "outputs": [
        {
          "data": {
            "text/plain": [
              "True"
            ]
          },
          "execution_count": 20,
          "metadata": {},
          "output_type": "execute_result"
        }
      ],
      "source": [
        "not b"
      ]
    },
    {
      "cell_type": "markdown",
      "metadata": {
        "id": "bJAuvNlp929_"
      },
      "source": [
        "### Question #1\n",
        "\n",
        "What will the following boolean expression evaluate as:"
      ]
    },
    {
      "cell_type": "code",
      "execution_count": null,
      "metadata": {
        "id": "DnBXDJwR92-B",
        "outputId": "442e6268-a4be-48c2-9ce6-eff8f2ab04b1"
      },
      "outputs": [
        {
          "data": {
            "text/plain": [
              "True"
            ]
          },
          "execution_count": 21,
          "metadata": {},
          "output_type": "execute_result"
        }
      ],
      "source": [
        "a and not b or a"
      ]
    },
    {
      "cell_type": "markdown",
      "metadata": {
        "id": "hzG4XrlV92-F"
      },
      "source": [
        "- a) True\n",
        "- b) False\n",
        "- c) None\n",
        "- d) This code will fail\n",
        "- e) Stop messing with my head!"
      ]
    },
    {
      "cell_type": "markdown",
      "metadata": {
        "id": "p2nirn9W92-G"
      },
      "source": [
        "## Comparison Operators"
      ]
    },
    {
      "cell_type": "markdown",
      "metadata": {
        "id": "DCsogadY92-G"
      },
      "source": [
        "Python has comparison operators `==`, `!=`, `<`, `>`, `<=`, and `>=` for value comparisons. These operators return booleans."
      ]
    },
    {
      "cell_type": "code",
      "execution_count": null,
      "metadata": {
        "tags": [
          "hidecode"
        ],
        "id": "rSuLontEXc3g",
        "outputId": "ea0ab5d3-3e6b-4946-d387-30cdc700c903"
      },
      "outputs": [
        {
          "data": {
            "text/html": [
              "<div>\n",
              "<style scoped>\n",
              "    .dataframe tbody tr th:only-of-type {\n",
              "        vertical-align: middle;\n",
              "    }\n",
              "\n",
              "    .dataframe tbody tr th {\n",
              "        vertical-align: top;\n",
              "    }\n",
              "\n",
              "    .dataframe thead th {\n",
              "        text-align: right;\n",
              "    }\n",
              "</style>\n",
              "<table border=\"1\" class=\"dataframe\">\n",
              "  <thead>\n",
              "    <tr style=\"text-align: right;\">\n",
              "      <th></th>\n",
              "      <th>Operator</th>\n",
              "      <th>Example Code</th>\n",
              "      <th>Value if x=5 and y=6</th>\n",
              "    </tr>\n",
              "    <tr>\n",
              "      <th>Name</th>\n",
              "      <th></th>\n",
              "      <th></th>\n",
              "      <th></th>\n",
              "    </tr>\n",
              "  </thead>\n",
              "  <tbody>\n",
              "    <tr>\n",
              "      <th>Greater Than</th>\n",
              "      <td>&gt;</td>\n",
              "      <td>x &gt; y</td>\n",
              "      <td>False</td>\n",
              "    </tr>\n",
              "    <tr>\n",
              "      <th>Less Than</th>\n",
              "      <td>&lt;</td>\n",
              "      <td>x &lt; y</td>\n",
              "      <td>True</td>\n",
              "    </tr>\n",
              "    <tr>\n",
              "      <th>Equivalent</th>\n",
              "      <td>==</td>\n",
              "      <td>x == y</td>\n",
              "      <td>False</td>\n",
              "    </tr>\n",
              "    <tr>\n",
              "      <th>Not Equal To</th>\n",
              "      <td>!=</td>\n",
              "      <td>x != y</td>\n",
              "      <td>True</td>\n",
              "    </tr>\n",
              "    <tr>\n",
              "      <th>Greater Than or Equal to</th>\n",
              "      <td>&gt;=</td>\n",
              "      <td>x &gt;= y</td>\n",
              "      <td>False</td>\n",
              "    </tr>\n",
              "    <tr>\n",
              "      <th>Less Than or Equal To</th>\n",
              "      <td>&lt;=</td>\n",
              "      <td>x &lt;= y</td>\n",
              "      <td>True</td>\n",
              "    </tr>\n",
              "  </tbody>\n",
              "</table>\n",
              "</div>"
            ],
            "text/plain": [
              "                         Operator Example Code  Value if x=5 and y=6\n",
              "Name                                                                \n",
              "Greater Than                    >        x > y                 False\n",
              "Less Than                       <        x < y                  True\n",
              "Equivalent                     ==       x == y                 False\n",
              "Not Equal To                   !=       x != y                  True\n",
              "Greater Than or Equal to       >=       x >= y                 False\n",
              "Less Than or Equal To          <=       x <= y                  True"
            ]
          },
          "execution_count": 22,
          "metadata": {},
          "output_type": "execute_result"
        }
      ],
      "source": [
        "comparison_df = pd.DataFrame(\n",
        "    {\n",
        "        \"Name\": [\n",
        "            \"Greater Than\",\n",
        "            \"Less Than\",\n",
        "            \"Equivalent\",\n",
        "            \"Not Equal To\",\n",
        "            \"Greater Than or Equal to\",\n",
        "            \"Less Than or Equal To\",\n",
        "        ],\n",
        "        \"Operator\": [\">\", \"<\", \"==\", \"!=\", \">=\", \"<=\"],\n",
        "        \"Example Code\": [\n",
        "            \"x > y\",\n",
        "            \"x < y\",\n",
        "            \"x == y\",\n",
        "            \"x != y\",\n",
        "            \"x >= y\",\n",
        "            \"x <= y\",\n",
        "        ],\n",
        "        \"Value if x=5 and y=6\": [False, True, False, True, False, True],\n",
        "    }\n",
        ")\n",
        "comparison_df.set_index(\"Name\", inplace=True)\n",
        "comparison_df"
      ]
    },
    {
      "cell_type": "markdown",
      "metadata": {
        "id": "hDYbHqDBXc3h"
      },
      "source": [
        "Let's define x and y"
      ]
    },
    {
      "cell_type": "code",
      "execution_count": null,
      "metadata": {
        "id": "Srk0qxAPXc3h",
        "outputId": "a62fd94b-605c-4d8b-bf8d-1024d3391964"
      },
      "outputs": [
        {
          "name": "stdout",
          "output_type": "stream",
          "text": [
            "5 6\n"
          ]
        }
      ],
      "source": [
        "x = 5\n",
        "y = 6\n",
        "print(x, y)"
      ]
    },
    {
      "cell_type": "markdown",
      "metadata": {
        "id": "YE1sO8fAXc3h"
      },
      "source": [
        "<div class=\"alert alert-info\" role=\"alert\">\n",
        "Heads up! You can also assign x and y on the same line...\n",
        "    </div"
      ]
    },
    {
      "cell_type": "code",
      "execution_count": null,
      "metadata": {
        "id": "bBnCEnABXc3h",
        "outputId": "6bebcd3b-d82e-4509-812f-2d5f736ecfc2"
      },
      "outputs": [
        {
          "name": "stdout",
          "output_type": "stream",
          "text": [
            "5 6\n"
          ]
        }
      ],
      "source": [
        "x, y = 5, 6\n",
        "print(x, y)"
      ]
    },
    {
      "cell_type": "markdown",
      "metadata": {
        "id": "rx08EKzsXc3h"
      },
      "source": [
        "Let's check those identities"
      ]
    },
    {
      "cell_type": "code",
      "execution_count": null,
      "metadata": {
        "colab": {
          "base_uri": "https://localhost:8080/",
          "height": 35
        },
        "id": "lBa3K9m_92-I",
        "outputId": "0c89d33c-c659-4113-8cda-d1c3d45a7067"
      },
      "outputs": [
        {
          "data": {
            "text/plain": [
              "True"
            ]
          },
          "execution_count": 30,
          "metadata": {},
          "output_type": "execute_result"
        }
      ],
      "source": [
        "x == x"
      ]
    },
    {
      "cell_type": "code",
      "execution_count": null,
      "metadata": {
        "colab": {
          "base_uri": "https://localhost:8080/",
          "height": 35
        },
        "id": "Bs5_rdoE92-M",
        "outputId": "d403ebef-762b-46a6-ddf1-a472b898842c"
      },
      "outputs": [
        {
          "data": {
            "text/plain": [
              "False"
            ]
          },
          "execution_count": 31,
          "metadata": {},
          "output_type": "execute_result"
        }
      ],
      "source": [
        "x == y"
      ]
    },
    {
      "cell_type": "code",
      "execution_count": null,
      "metadata": {
        "colab": {
          "base_uri": "https://localhost:8080/",
          "height": 35
        },
        "id": "YTSBFIxG92-O",
        "outputId": "62464169-2aa1-4d64-acfe-13a6ace54974"
      },
      "outputs": [
        {
          "data": {
            "text/plain": [
              "True"
            ]
          },
          "execution_count": 32,
          "metadata": {},
          "output_type": "execute_result"
        }
      ],
      "source": [
        "\"aa\" == \"aa\""
      ]
    },
    {
      "cell_type": "code",
      "execution_count": null,
      "metadata": {
        "colab": {
          "base_uri": "https://localhost:8080/",
          "height": 35
        },
        "id": "4_UPJQLZ92-S",
        "outputId": "ae431099-95be-4747-e20a-c4993c5623a1"
      },
      "outputs": [
        {
          "data": {
            "text/plain": [
              "False"
            ]
          },
          "execution_count": 33,
          "metadata": {},
          "output_type": "execute_result"
        }
      ],
      "source": [
        "12 >= 13"
      ]
    },
    {
      "cell_type": "markdown",
      "metadata": {
        "id": "kxV7xAcc92-V"
      },
      "source": [
        "## Comparing Identity Operators"
      ]
    },
    {
      "cell_type": "markdown",
      "metadata": {
        "id": "hvIA4-Gb92-W"
      },
      "source": [
        "Python uses `is` and `is not` to compare identity. These operators return booleans.  This is not the same as equivalence, like `==`.  Equivalence checks if the values are the same.  Identity checks if they are the same object in the computer's memory."
      ]
    },
    {
      "cell_type": "code",
      "execution_count": null,
      "metadata": {
        "id": "v0ANYHlOXc3i"
      },
      "outputs": [],
      "source": [
        "identity_df = pd.DataFrame(\n",
        "    {\n",
        "        \"Name\": [\n",
        "            \"is\",\n",
        "            \"is not\",\n",
        "        ],\n",
        "        \"Value if x='hi' and y='hi'\": [False, True],\n",
        "    }\n",
        ")\n",
        "identity_df.set_index(\"Name\", inplace=True)\n",
        "identity_df"
      ]
    },
    {
      "cell_type": "markdown",
      "metadata": {
        "id": "JTIOs5AsXc3i"
      },
      "source": [
        "Here it is `False` that x's copy of `hi` is the same copy of `hi` as y's copy of `hi`.  It is `True` that they are ***not*** the same copy."
      ]
    },
    {
      "cell_type": "code",
      "execution_count": null,
      "metadata": {
        "id": "hYD94WzP92-Y"
      },
      "outputs": [],
      "source": [
        "a = \"hi\"\n",
        "b = a\n",
        "c = \"hi\""
      ]
    },
    {
      "cell_type": "code",
      "execution_count": null,
      "metadata": {
        "id": "U3o5RhbK92-a"
      },
      "outputs": [],
      "source": [
        "print(a is b)\n",
        "print(c is a)\n",
        "print(a is not c)"
      ]
    },
    {
      "cell_type": "markdown",
      "metadata": {
        "id": "nkS-eYKTd3ZA"
      },
      "source": [
        "<div class=\"alert alert-primary\" role=\"alert\">When we assigned `hi` to `a`, we created an instance of the `hi` object in the computers memory. When we say b=a, we point b at that instance of the object. When we say c=`hi`, we created a new copy of `hi`. The words are the same, but they point at different objects stored in the computer's memory.\n",
        "    </div"
      ]
    },
    {
      "cell_type": "code",
      "execution_count": null,
      "metadata": {
        "id": "dlCCP8KD92-d"
      },
      "outputs": [],
      "source": [
        "a == b == c"
      ]
    },
    {
      "cell_type": "markdown",
      "metadata": {
        "id": "P4gUEirh92-h"
      },
      "source": [
        "## Membership operators\n",
        "\n",
        "<p><code>in</code> and <code>not in</code> are the membership operators in Python. They are used to test whether a value or variable is found in a sequence (<code>string</code>, <code>list</code>, <code>tuple</code>, <code>set</code>, and <code>dictionary</code>). In a dictionary we can only test for presence of key, not the value.</p>\n",
        "\n",
        "\n",
        "\n",
        "<table border=\"1\">\n",
        "\t<tbody>\n",
        "\t\t<tr>\n",
        "\t\t\t<th>Operator</th>\n",
        "\t\t\t<th>Meaning</th>\n",
        "\t\t\t<th>Example</th>\n",
        "\t\t</tr>\n",
        "\t\t<tr>\n",
        "\t\t\t<td>in</td>\n",
        "\t\t\t<td>True if value/variable is found in the sequence</td>\n",
        "\t\t\t<td>5 in x</td>\n",
        "\t\t</tr>\n",
        "\t\t<tr>\n",
        "\t\t\t<td>not in</td>\n",
        "\t\t\t<td>True if value/variable is not found in the sequence</td>\n",
        "\t\t\t<td>5 not in x</td>\n",
        "\t\t</tr>\n",
        "\t</tbody>\n",
        "</table>\n",
        "\n",
        "https://www.programiz.com/python-programming/operators"
      ]
    },
    {
      "cell_type": "code",
      "execution_count": null,
      "metadata": {
        "id": "KsNHDQPO92-i"
      },
      "outputs": [],
      "source": [
        "name = \"Feinberg\"\n",
        "\n",
        "'be' in name"
      ]
    },
    {
      "cell_type": "code",
      "execution_count": null,
      "metadata": {
        "id": "qoU1i0_hedIk"
      },
      "outputs": [],
      "source": [
        "'elbow' in name"
      ]
    },
    {
      "cell_type": "code",
      "execution_count": null,
      "metadata": {
        "id": "Q5HkxehW92-k"
      },
      "outputs": [],
      "source": [
        "'elbow' not in name"
      ]
    },
    {
      "cell_type": "markdown",
      "metadata": {
        "id": "9gMXSXRe92-n"
      },
      "source": [
        "## String Operations"
      ]
    },
    {
      "cell_type": "markdown",
      "metadata": {
        "id": "P7QGZSlF92-n"
      },
      "source": [
        "Operators sometimes do different things on different data. For example, `+` on strings does concatenation."
      ]
    },
    {
      "cell_type": "code",
      "execution_count": null,
      "metadata": {
        "id": "_Oelror092-o"
      },
      "outputs": [],
      "source": [
        "abc = 'a' + 'b' + 'c'\n",
        "abc"
      ]
    },
    {
      "cell_type": "code",
      "execution_count": null,
      "metadata": {
        "id": "xpGhrSDq92-q"
      },
      "outputs": [],
      "source": [
        "one = \"1\"\n",
        "two = \"2\"\n",
        "twelve = one + two\n",
        "twelve"
      ]
    },
    {
      "cell_type": "code",
      "execution_count": null,
      "metadata": {
        "id": "fS-SLCRf92-s"
      },
      "outputs": [],
      "source": [
        "first_name = \"David\"\n",
        "space = \" \"\n",
        "last_name = \"Feinberg\"\n",
        "full_name = first_name + space + last_name\n",
        "full_name"
      ]
    },
    {
      "cell_type": "markdown",
      "metadata": {
        "id": "iQb5jOwk92-w"
      },
      "source": [
        "### You can't add numbers and strings"
      ]
    },
    {
      "cell_type": "code",
      "execution_count": null,
      "metadata": {
        "id": "pyOmMhTq92-x"
      },
      "outputs": [],
      "source": [
        "full_name + 7"
      ]
    },
    {
      "cell_type": "markdown",
      "metadata": {
        "id": "sUTDn_A_92-z"
      },
      "source": [
        "### ... unless the numbers are stored as strings"
      ]
    },
    {
      "cell_type": "code",
      "execution_count": null,
      "metadata": {
        "id": "ztiEpVhp92-0"
      },
      "outputs": [],
      "source": [
        "full_name + '7'"
      ]
    },
    {
      "cell_type": "markdown",
      "metadata": {
        "id": "k0UeaFst92-2"
      },
      "source": [
        "### But, remember our example above... you can multiply strings"
      ]
    },
    {
      "cell_type": "code",
      "execution_count": null,
      "metadata": {
        "id": "Y_cU0dtz92-2"
      },
      "outputs": [],
      "source": [
        "full_name * 21"
      ]
    },
    {
      "cell_type": "markdown",
      "metadata": {
        "id": "vI92PWuB92-5"
      },
      "source": [
        "### Good thing you can't divide strings also.   What would that even look like?"
      ]
    },
    {
      "cell_type": "code",
      "execution_count": null,
      "metadata": {
        "id": "RxT-g0yC92-5"
      },
      "outputs": [],
      "source": [
        "full_name / 21"
      ]
    },
    {
      "cell_type": "markdown",
      "metadata": {
        "id": "Ctmp9d1O92-7"
      },
      "source": [
        "## Chaining Operators\n",
        "\n",
        "Operators and variables can also be chained together into arbitrarily complex expressions."
      ]
    },
    {
      "cell_type": "code",
      "execution_count": null,
      "metadata": {
        "id": "cTTj_Lyl92-7"
      },
      "outputs": [],
      "source": [
        " 'PNB' + \" \" + '2A03' == 'PNB 2A03'"
      ]
    },
    {
      "cell_type": "markdown",
      "metadata": {
        "id": "QDSOX5yK92-9"
      },
      "source": [
        "### You can do that with variables too..."
      ]
    },
    {
      "cell_type": "code",
      "execution_count": null,
      "metadata": {
        "id": "TUXTG-mZ92--"
      },
      "outputs": [],
      "source": [
        "department = \"PNB\"\n",
        "space = \" \"\n",
        "course_code = \"2A03\"\n",
        "\n",
        "department + space + course_code == 'PNB 2A03'"
      ]
    },
    {
      "cell_type": "markdown",
      "metadata": {
        "id": "4ipKUreH92_A"
      },
      "source": [
        "### Note that you can use parentheses to chunk sections"
      ]
    },
    {
      "cell_type": "code",
      "execution_count": null,
      "metadata": {
        "id": "P_uRShZw92_B"
      },
      "outputs": [],
      "source": [
        "(13 % 7 >= 7) and (department + space + course_code == 'PNB 2A03')"
      ]
    },
    {
      "cell_type": "markdown",
      "metadata": {
        "id": "1TEJTgzN92_D"
      },
      "source": [
        "### Question #2\n",
        "\n",
        "What will the following expression evaluate as:"
      ]
    },
    {
      "cell_type": "code",
      "execution_count": null,
      "metadata": {
        "id": "22JCvn-D92_D"
      },
      "outputs": [],
      "source": [
        "2 ** 2 >= 4 and 13 % 3 > 1"
      ]
    },
    {
      "cell_type": "markdown",
      "metadata": {
        "id": "hkIcer8P92_G"
      },
      "source": [
        "- a) True\n",
        "- b) False\n",
        "- c) None\n",
        "- d) This code will fail"
      ]
    }
  ],
  "metadata": {
    "colab": {
      "collapsed_sections": [],
      "provenance": [],
      "include_colab_link": true
    },
    "kernelspec": {
      "display_name": "Python 3",
      "language": "python",
      "name": "python3"
    },
    "language_info": {
      "codemirror_mode": {
        "name": "ipython",
        "version": 3
      },
      "file_extension": ".py",
      "mimetype": "text/x-python",
      "name": "python",
      "nbconvert_exporter": "python",
      "pygments_lexer": "ipython3",
      "version": "3.8.5"
    },
    "toc": {
      "base_numbering": 1,
      "nav_menu": {},
      "number_sections": false,
      "sideBar": false,
      "skip_h1_title": false,
      "title_cell": "Table of Contents",
      "title_sidebar": "Contents",
      "toc_cell": false,
      "toc_position": {},
      "toc_section_display": false,
      "toc_window_display": false
    }
  },
  "nbformat": 4,
  "nbformat_minor": 0
}
